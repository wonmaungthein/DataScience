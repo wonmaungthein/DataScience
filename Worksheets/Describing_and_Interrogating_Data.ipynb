{
  "nbformat": 4,
  "nbformat_minor": 0,
  "metadata": {
    "colab": {
      "name": "Describing and Interrogating Data.ipynb",
      "provenance": [],
      "collapsed_sections": [],
      "include_colab_link": true
    },
    "kernelspec": {
      "name": "python3",
      "display_name": "Python 3"
    },
    "language_info": {
      "name": "python"
    }
  },
  "cells": [
    {
      "cell_type": "markdown",
      "metadata": {
        "id": "view-in-github",
        "colab_type": "text"
      },
      "source": [
        "<a href=\"https://colab.research.google.com/github/wonmaungthein/DataScience/blob/main/Worksheets/Describing_and_Interrogating_Data.ipynb\" target=\"_parent\"><img src=\"https://colab.research.google.com/assets/colab-badge.svg\" alt=\"Open In Colab\"/></a>"
      ]
    },
    {
      "cell_type": "markdown",
      "metadata": {
        "id": "ZlD9__2sD2jr"
      },
      "source": [
        "# Describing and Interrogating Data \n",
        "---\n",
        "\n",
        "When using pandas we first need to import it \n",
        "\n",
        "` import pandas as pd ` \n",
        "\n",
        "\n",
        "When first looking at a dataset, it is important to be able to see information about the data such as summmary statistics, and interrogate it to find information. \n",
        "\n",
        "This is the least risky in terms of bias and inaccurate conclusions as it should focus just on what data is presented to us.\n",
        "\n",
        "### Summary Statistics\n",
        "--- \n",
        "\n",
        "Mean - the average  \n",
        "Median - middle value / 50% of the data (another type of average)   \n",
        "Range - the total range of values (max - min)  \n",
        "\n",
        "### Useful Functions\n",
        "---\n",
        "\n",
        "`head()` will show the first 5 rows of the dataframe. You can show a different amount of rows by putting the number of columns you would like to see in the brackets.    \n",
        "`tail()` same as head() but for the last 5 rows   \n",
        "`info()` will show information about the overall dataset, including how many Null values exist in each column, the data type of each column and dataframes length   \n",
        "`describe()` will show summary statistics for all numeric columns   \n",
        "`loc[index]`  will show you row / rows at index position or in index range  \n",
        "`unique()` will show all the unique values in a column   \n",
        "`nunique()` will show the number of unique values in a column   \n",
        "`len()` will show the length (can be used on a list, array, column etc)  \n",
        "\n",
        "### Interrogating dataframes \n",
        "---\n",
        "\n",
        "To view subsets:\n",
        "\n",
        "* single column: `dataframe['column'] `\n",
        "* multiple columns: `dataframe[['column1', 'column2']]`\n",
        "* columns by criteria: `dataframe[dataframe['column'] == 'criteria']`\n"
      ]
    },
    {
      "cell_type": "markdown",
      "metadata": {
        "id": "nfhz7LW3Qu9i"
      },
      "source": [
        "## Data Retrieval \n",
        "---\n",
        "\n",
        "In order to load in a dataset you will need to retrieve it. The following code retrieves different types of data. \n",
        "\n",
        "From a webpage:\n",
        "\n",
        "` pd.read_html(\"url\")`\n",
        "\n",
        "From a CSV hosted on Github:\n",
        "\n",
        "`pd.read_csv(\"url\")`\n",
        "\n",
        "From an Excel hosted on Github:\n",
        "\n",
        "`pd.read_excel(\"url\", sheet_name = \"sheet name\")`\n",
        "\n",
        "\n"
      ]
    },
    {
      "cell_type": "markdown",
      "metadata": {
        "id": "c1Vyby7pQOvq"
      },
      "source": [
        "### Exercise 1 - open the Titanic dataset and see descriptive info\n",
        "---\n",
        "\n",
        "The Titanic dataset is stored at this URL:\n",
        "https://raw.githubusercontent.com/pandas-dev/pandas/master/doc/data/titanic.csv\n",
        "\n",
        "1. Read the dataset into a pandas dataframe that you will call **titanic**.\n",
        "\n",
        "\n",
        "2. Write a function called **summary** that will: \n",
        "* Display the first 5 rows of the dataset \n",
        "* Use info() to display a technical summary of the data\n",
        "* Use describe() to display a numerical summary of the data \n",
        "\n",
        "\n",
        "**Expected Output** \n",
        "\n",
        "```\n",
        "   PassengerId  Survived  Pclass  ...     Fare Cabin  Embarked\n",
        "0            1         0       3  ...   7.2500   NaN         S\n",
        "1            2         1       1  ...  71.2833   C85         C\n",
        "2            3         1       3  ...   7.9250   NaN         S\n",
        "3            4         1       1  ...  53.1000  C123         S\n",
        "4            5         0       3  ...   8.0500   NaN         S\n",
        "\n",
        "[5 rows x 12 columns]\n",
        "<class 'pandas.core.frame.DataFrame'>\n",
        "RangeIndex: 891 entries, 0 to 890\n",
        "Data columns (total 12 columns):\n",
        " #   Column       Non-Null Count  Dtype  \n",
        "---  ------       --------------  -----  \n",
        " 0   PassengerId  891 non-null    int64  \n",
        " 1   Survived     891 non-null    int64  \n",
        " 2   Pclass       891 non-null    int64  \n",
        " 3   Name         891 non-null    object \n",
        " 4   Sex          891 non-null    object \n",
        " 5   Age          714 non-null    float64\n",
        " 6   SibSp        891 non-null    int64  \n",
        " 7   Parch        891 non-null    int64  \n",
        " 8   Ticket       891 non-null    object \n",
        " 9   Fare         891 non-null    float64\n",
        " 10  Cabin        204 non-null    object \n",
        " 11  Embarked     889 non-null    object \n",
        "dtypes: float64(2), int64(5), object(5)\n",
        "memory usage: 83.7+ KB\n",
        "None\n",
        "       PassengerId    Survived      Pclass  ...       SibSp       Parch        Fare\n",
        "count   891.000000  891.000000  891.000000  ...  891.000000  891.000000  891.000000\n",
        "mean    446.000000    0.383838    2.308642  ...    0.523008    0.381594   32.204208\n",
        "std     257.353842    0.486592    0.836071  ...    1.102743    0.806057   49.693429\n",
        "min       1.000000    0.000000    1.000000  ...    0.000000    0.000000    0.000000\n",
        "25%     223.500000    0.000000    2.000000  ...    0.000000    0.000000    7.910400\n",
        "50%     446.000000    0.000000    3.000000  ...    0.000000    0.000000   14.454200\n",
        "75%     668.500000    1.000000    3.000000  ...    1.000000    0.000000   31.000000\n",
        "max     891.000000    1.000000    3.000000  ...    8.000000    6.000000  512.329200\n",
        "\n",
        "[8 rows x 7 columns]\n",
        "```"
      ]
    },
    {
      "cell_type": "code",
      "metadata": {
        "id": "lRJhN1GsZSQc",
        "outputId": "1d9fa987-ff0d-42d4-bc88-4fbb8ca37630",
        "colab": {
          "base_uri": "https://localhost:8080/",
          "height": 527
        }
      },
      "source": [
        "import pandas as pd\n",
        "url = 'https://raw.githubusercontent.com/pandas-dev/pandas/master/doc/data/titanic.csv'\n",
        "# df = pd.read_csv(['titanic.csv'])\n",
        "df = pd.read_csv(url)\n",
        "titanic = df\n",
        "\n",
        "def get_summary(df):\n",
        "  summary = firstFiveRows = df.head()\n",
        "  df.info(), df.describe()\n",
        "  return summary\n",
        "  # add code below which prints the first 5 rows of the dataset, the info and the numerical summary\n",
        "\n",
        "# run and visually test using example above\n",
        "get_summary(titanic)\n"
      ],
      "execution_count": 220,
      "outputs": [
        {
          "output_type": "stream",
          "name": "stdout",
          "text": [
            "<class 'pandas.core.frame.DataFrame'>\n",
            "RangeIndex: 891 entries, 0 to 890\n",
            "Data columns (total 12 columns):\n",
            " #   Column       Non-Null Count  Dtype  \n",
            "---  ------       --------------  -----  \n",
            " 0   PassengerId  891 non-null    int64  \n",
            " 1   Survived     891 non-null    int64  \n",
            " 2   Pclass       891 non-null    int64  \n",
            " 3   Name         891 non-null    object \n",
            " 4   Sex          891 non-null    object \n",
            " 5   Age          714 non-null    float64\n",
            " 6   SibSp        891 non-null    int64  \n",
            " 7   Parch        891 non-null    int64  \n",
            " 8   Ticket       891 non-null    object \n",
            " 9   Fare         891 non-null    float64\n",
            " 10  Cabin        204 non-null    object \n",
            " 11  Embarked     889 non-null    object \n",
            "dtypes: float64(2), int64(5), object(5)\n",
            "memory usage: 83.7+ KB\n"
          ]
        },
        {
          "output_type": "execute_result",
          "data": {
            "text/html": [
              "<div>\n",
              "<style scoped>\n",
              "    .dataframe tbody tr th:only-of-type {\n",
              "        vertical-align: middle;\n",
              "    }\n",
              "\n",
              "    .dataframe tbody tr th {\n",
              "        vertical-align: top;\n",
              "    }\n",
              "\n",
              "    .dataframe thead th {\n",
              "        text-align: right;\n",
              "    }\n",
              "</style>\n",
              "<table border=\"1\" class=\"dataframe\">\n",
              "  <thead>\n",
              "    <tr style=\"text-align: right;\">\n",
              "      <th></th>\n",
              "      <th>PassengerId</th>\n",
              "      <th>Survived</th>\n",
              "      <th>Pclass</th>\n",
              "      <th>Name</th>\n",
              "      <th>Sex</th>\n",
              "      <th>Age</th>\n",
              "      <th>SibSp</th>\n",
              "      <th>Parch</th>\n",
              "      <th>Ticket</th>\n",
              "      <th>Fare</th>\n",
              "      <th>Cabin</th>\n",
              "      <th>Embarked</th>\n",
              "    </tr>\n",
              "  </thead>\n",
              "  <tbody>\n",
              "    <tr>\n",
              "      <th>0</th>\n",
              "      <td>1</td>\n",
              "      <td>0</td>\n",
              "      <td>3</td>\n",
              "      <td>Braund, Mr. Owen Harris</td>\n",
              "      <td>male</td>\n",
              "      <td>22.0</td>\n",
              "      <td>1</td>\n",
              "      <td>0</td>\n",
              "      <td>A/5 21171</td>\n",
              "      <td>7.2500</td>\n",
              "      <td>NaN</td>\n",
              "      <td>S</td>\n",
              "    </tr>\n",
              "    <tr>\n",
              "      <th>1</th>\n",
              "      <td>2</td>\n",
              "      <td>1</td>\n",
              "      <td>1</td>\n",
              "      <td>Cumings, Mrs. John Bradley (Florence Briggs Th...</td>\n",
              "      <td>female</td>\n",
              "      <td>38.0</td>\n",
              "      <td>1</td>\n",
              "      <td>0</td>\n",
              "      <td>PC 17599</td>\n",
              "      <td>71.2833</td>\n",
              "      <td>C85</td>\n",
              "      <td>C</td>\n",
              "    </tr>\n",
              "    <tr>\n",
              "      <th>2</th>\n",
              "      <td>3</td>\n",
              "      <td>1</td>\n",
              "      <td>3</td>\n",
              "      <td>Heikkinen, Miss. Laina</td>\n",
              "      <td>female</td>\n",
              "      <td>26.0</td>\n",
              "      <td>0</td>\n",
              "      <td>0</td>\n",
              "      <td>STON/O2. 3101282</td>\n",
              "      <td>7.9250</td>\n",
              "      <td>NaN</td>\n",
              "      <td>S</td>\n",
              "    </tr>\n",
              "    <tr>\n",
              "      <th>3</th>\n",
              "      <td>4</td>\n",
              "      <td>1</td>\n",
              "      <td>1</td>\n",
              "      <td>Futrelle, Mrs. Jacques Heath (Lily May Peel)</td>\n",
              "      <td>female</td>\n",
              "      <td>35.0</td>\n",
              "      <td>1</td>\n",
              "      <td>0</td>\n",
              "      <td>113803</td>\n",
              "      <td>53.1000</td>\n",
              "      <td>C123</td>\n",
              "      <td>S</td>\n",
              "    </tr>\n",
              "    <tr>\n",
              "      <th>4</th>\n",
              "      <td>5</td>\n",
              "      <td>0</td>\n",
              "      <td>3</td>\n",
              "      <td>Allen, Mr. William Henry</td>\n",
              "      <td>male</td>\n",
              "      <td>35.0</td>\n",
              "      <td>0</td>\n",
              "      <td>0</td>\n",
              "      <td>373450</td>\n",
              "      <td>8.0500</td>\n",
              "      <td>NaN</td>\n",
              "      <td>S</td>\n",
              "    </tr>\n",
              "  </tbody>\n",
              "</table>\n",
              "</div>"
            ],
            "text/plain": [
              "   PassengerId  Survived  Pclass  ...     Fare Cabin  Embarked\n",
              "0            1         0       3  ...   7.2500   NaN         S\n",
              "1            2         1       1  ...  71.2833   C85         C\n",
              "2            3         1       3  ...   7.9250   NaN         S\n",
              "3            4         1       1  ...  53.1000  C123         S\n",
              "4            5         0       3  ...   8.0500   NaN         S\n",
              "\n",
              "[5 rows x 12 columns]"
            ]
          },
          "metadata": {},
          "execution_count": 220
        }
      ]
    },
    {
      "cell_type": "markdown",
      "metadata": {
        "id": "MReHVTG2a7Yt"
      },
      "source": [
        "### Exercise 2 - displaying other statistics\n",
        "---\n",
        "\n",
        "Take a look at the list of methods available for giving summary statistics [here](https://pandas.pydata.org/docs/user_guide/basics.html#basics-stats) \n",
        "\n",
        "Use panda functions, and your existing knowledge, to display the following summary statistics from the titanic dataset:\n",
        "\n",
        "Write a function called **statistics** which returns:\n",
        "\n",
        "1.  The total number of passengers on the titanic\n",
        "2.  The age of the youngest passenger\n",
        "3.  The most expensive ticket price\n",
        "4.  The range of ticket prices\n",
        "5.  The number of passenges with cabins\n",
        "6.  The code for the port where the highest number of passengers embarked\n",
        "7.  The most populous gender\n",
        "8.  The standard deviation for age"
      ]
    },
    {
      "cell_type": "code",
      "metadata": {
        "id": "nfF3lqNFX_Wr",
        "outputId": "ccd0b0de-6f25-4abf-d05a-3d38dc411fe1",
        "colab": {
          "base_uri": "https://localhost:8080/"
        }
      },
      "source": [
        "def get_statistics(df):\n",
        "  passengers = len(df['PassengerId'])\n",
        "  youngest = min(df['Age'])\n",
        "  most_expensive = max(df['Fare'])\n",
        "  cheapest = min(df['Fare'])\n",
        "  embarked = df['Embarked']\n",
        "  gender = max(df['Sex'])\n",
        "  print(gender)\n",
        "  # Not sure how to find deviation\n",
        "\n",
        "  # Cabin num is not correct yet\n",
        "  no_cabins = df['Cabin']\n",
        "  # print('num cabins ====>', no_cabins)\n",
        "  \n",
        "  range_ticket = most_expensive - cheapest\n",
        "\n",
        "  # commented out last two parameters because I haven't got the answer yet \n",
        "  statistics = passengers, youngest, most_expensive, range_ticket, embarked[0], gender #, sd, no_cabins \n",
        "  return statistics\n",
        "\n",
        "\n",
        "# run and test if answers are correct \n",
        "actual = get_statistics(titanic)\n",
        "expected = (891, 0.42, 512.3292, 512.3292, 'S', 'male') #, 14.526497332334044, 204)\n",
        "\n",
        "if actual == expected:\n",
        "  print(\"Test passed\", actual)\n",
        "else: \n",
        "  print(\"Test failed, expected\", expected, \"but got\", actual)\n",
        "\n",
        "get_statistics(titanic)\n"
      ],
      "execution_count": 90,
      "outputs": [
        {
          "output_type": "stream",
          "name": "stdout",
          "text": [
            "male\n",
            "Test passed (891, 0.42, 512.3292, 512.3292, 'S', 'male')\n",
            "male\n"
          ]
        },
        {
          "output_type": "execute_result",
          "data": {
            "text/plain": [
              "(891, 0.42, 512.3292, 512.3292, 'S', 'male')"
            ]
          },
          "metadata": {},
          "execution_count": 90
        }
      ]
    },
    {
      "cell_type": "markdown",
      "metadata": {
        "id": "DWoxUSTec8-R"
      },
      "source": [
        "### Exercise 3 - aggregating statistics grouped by category\n",
        "---\n",
        "\n",
        "Refer again to the tutorial  \n",
        "[How to calculate summary statistics?](https://pandas.pydata.org/docs/getting_started/intro_tutorials/06_calculate_statistics.html#)   \n",
        "looking particularly at the section on Aggregating statistics grouped by category.\n",
        "\n",
        "Write a function called **grouped** which displays:\n",
        "\n",
        "1.  The mean age for male versus female Titanic passengers?\n",
        "2.  The mean ticket fare price for each of the sex and cabin class combinations?\n",
        "3.  The mean ticket fare price for passengers who embarked at each port?\n",
        "4.  Which passenger class had the highest number of survivors (for now, just show the statistics - it may not be meaningful yet)?\n",
        "\n",
        "**Expected output**\n",
        "```\n",
        "            Age\n",
        " Sex              \n",
        " female  27.915709\n",
        " male    30.726645, \n",
        " \n",
        " Pclass  Sex   \n",
        " 1       female    106.125798\n",
        "         male       67.226127\n",
        " 2       female     21.970121\n",
        "         male       19.741782\n",
        " 3       female     16.118810\n",
        "         male       12.661633\n",
        "\n",
        " Name: Fare, dtype: float64 \n",
        " \n",
        " Embarked\n",
        " C    59.954144\n",
        " Q    13.276030\n",
        " S    27.079812\n",
        " Name: Fare, dtype: float64\n",
        " \n",
        " 0    3\n",
        " dtype: int64\n",
        " ```"
      ]
    },
    {
      "cell_type": "code",
      "metadata": {
        "id": "Q2yydIaYdLqa",
        "outputId": "7009c397-44cf-4d30-cefb-fba1a4478e27",
        "colab": {
          "base_uri": "https://localhost:8080/"
        }
      },
      "source": [
        "def get_grouped(df):\n",
        "\n",
        "  age = df['Age'].mean()\n",
        "\n",
        "  male = df['Sex'][0]\n",
        "  female = df['Sex'][1]\n",
        "  info = df.info()\n",
        "  sex =df['Sex']\n",
        "  print(sex)\n",
        "  grouped = age, male, female\n",
        "\n",
        "  return grouped\n",
        "  # add code below to return the above stats \n",
        "\n",
        "# run and test visually using the above expected output \n",
        "get_grouped(titanic)\n",
        "\n"
      ],
      "execution_count": 298,
      "outputs": [
        {
          "output_type": "stream",
          "name": "stdout",
          "text": [
            "<class 'pandas.core.frame.DataFrame'>\n",
            "RangeIndex: 891 entries, 0 to 890\n",
            "Data columns (total 12 columns):\n",
            " #   Column       Non-Null Count  Dtype  \n",
            "---  ------       --------------  -----  \n",
            " 0   PassengerId  891 non-null    int64  \n",
            " 1   Survived     891 non-null    int64  \n",
            " 2   Pclass       891 non-null    int64  \n",
            " 3   Name         891 non-null    object \n",
            " 4   Sex          891 non-null    object \n",
            " 5   Age          714 non-null    float64\n",
            " 6   SibSp        891 non-null    int64  \n",
            " 7   Parch        891 non-null    int64  \n",
            " 8   Ticket       891 non-null    object \n",
            " 9   Fare         891 non-null    float64\n",
            " 10  Cabin        204 non-null    object \n",
            " 11  Embarked     889 non-null    object \n",
            "dtypes: float64(2), int64(5), object(5)\n",
            "memory usage: 83.7+ KB\n",
            "0        male\n",
            "1      female\n",
            "2      female\n",
            "3      female\n",
            "4        male\n",
            "        ...  \n",
            "886      male\n",
            "887    female\n",
            "888    female\n",
            "889      male\n",
            "890      male\n",
            "Name: Sex, Length: 891, dtype: object\n"
          ]
        },
        {
          "output_type": "execute_result",
          "data": {
            "text/plain": [
              "(29.69911764705882, 'male', 'female')"
            ]
          },
          "metadata": {},
          "execution_count": 298
        }
      ]
    },
    {
      "cell_type": "markdown",
      "metadata": {
        "id": "uK8OYsAzdvQ0"
      },
      "source": [
        "### Exercise 4 - using loc\n",
        "---\n",
        "Write a function called **get_middle** to:\n",
        "*   display the middle 20 records (use the shape of the dataframe to help you identify the index positions of these)\n"
      ]
    },
    {
      "cell_type": "code",
      "metadata": {
        "id": "2_xKQkKijYlo",
        "outputId": "59b1517b-9f62-449c-963a-3487753b9d3e",
        "colab": {
          "base_uri": "https://localhost:8080/"
        }
      },
      "source": [
        "def get_middle(df):\n",
        "  # add code below to return middle 20 records \n",
        "  index = df.index\n",
        "  number_of_rows = len(index)\n",
        "  halfOfDfRows = number_of_rows / 2\n",
        "  tenAfterHalf = df.loc[halfOfDfRows : halfOfDfRows + 10]\n",
        "  tenBeforeHalf = df.loc[halfOfDfRows - 10 : halfOfDfRows ]\n",
        "\n",
        "  get_middle = tenBeforeHalf\n",
        "  # print(halfOfDfRows)\n",
        "  # print( '2 after half val =====> :', tenAfterHalf)\n",
        "  # print('2 before half val =====> :', tenBeforeHalf)\n",
        "  # print('Total is ==========>:', get_middle)\n",
        "\n",
        "  return get_middle\n",
        "\n",
        "# run and test if your returned 20 records starts at correct index \n",
        "\n",
        "actual = get_middle(titanic).index[0]\n",
        "expected = 436\n",
        "\n",
        "if actual == expected:\n",
        "  print(\"Test passed\", actual)\n",
        "else: \n",
        "  print(\"Test failed expected index of\", expected, \"got\", actual)"
      ],
      "execution_count": 199,
      "outputs": [
        {
          "output_type": "stream",
          "name": "stdout",
          "text": [
            "Test passed 436\n"
          ]
        }
      ]
    },
    {
      "cell_type": "markdown",
      "metadata": {
        "id": "MRzwCCb1jYts"
      },
      "source": [
        "### Exercise 5 - migration to and from\n",
        "---\n",
        "\n",
        "The Excel file at this link (which you have already opened above): https://github.com/futureCodersSE/working-with-data/blob/main/Data%20sets/public_use-talent-migration.xlsx?raw=true has three data sheets, \"Country Migration\", \"Industry Migration\" and \"Skill Migration\"\n",
        "\n",
        "Read the data sheet \"Country Migration\" into a variable called **country** \n",
        "\n",
        "Write a function called **get_uk_mig** that will return all the rows which had migration to the United Kingdom "
      ]
    },
    {
      "cell_type": "code",
      "metadata": {
        "id": "4hCS4n2XlPXN",
        "outputId": "40b1d0f4-760b-4e2e-bea1-3f8be474eedf",
        "colab": {
          "base_uri": "https://localhost:8080/"
        }
      },
      "source": [
        "from pandas import ExcelWriter\n",
        "from pandas import ExcelFile\n",
        "\n",
        "def get_uk_mig(df):\n",
        "  link = 'https://github.com/futureCodersSE/working-with-data/blob/main/Data%20sets/public_use-talent-migration.xlsx?raw=true'\n",
        "  country = pd.read_excel(link, \"Country Migration\")\n",
        "  uk_mig = df[country['target_country_name'] =='United Kingdom']\n",
        "  return (uk_mig)\n",
        "\n",
        "# run and test if your returned series is the correct length \n",
        "# Getting wrong number 24\n",
        "actual = len(get_uk_mig(df))\n",
        "expected = 122\n",
        "\n",
        "if actual == expected:\n",
        "  print(\"Test passed\", actual)\n",
        "else: \n",
        "  print(\"Test failed expected\", expected, \"got\", actual)\n",
        "\n"
      ],
      "execution_count": 275,
      "outputs": [
        {
          "output_type": "stream",
          "name": "stdout",
          "text": [
            "Test failed expected 122 got 24\n"
          ]
        },
        {
          "output_type": "stream",
          "name": "stderr",
          "text": [
            "/usr/local/lib/python3.7/dist-packages/ipykernel_launcher.py:8: UserWarning: Boolean Series key will be reindexed to match DataFrame index.\n",
            "  \n"
          ]
        }
      ]
    },
    {
      "cell_type": "markdown",
      "metadata": {
        "id": "EgW80B3mlPpl"
      },
      "source": [
        "### Exercise 6 - how many countries are migrated to\n",
        "\n",
        "Using the \"Country Migration\" sheet again, get the total number of unique country names of where people have migrated from.\n"
      ]
    },
    {
      "cell_type": "code",
      "metadata": {
        "id": "ZQTbjWlBlm3S",
        "outputId": "a9b950ba-91c3-4664-9018-4b2bd2b48508",
        "colab": {
          "base_uri": "https://localhost:8080/"
        }
      },
      "source": [
        "def migration(df):\n",
        "  #add code below to return the total number of unique country names of where people have migrated from \n",
        "  link = 'https://github.com/futureCodersSE/working-with-data/blob/main/Data%20sets/public_use-talent-migration.xlsx?raw=true'\n",
        "  country = pd.read_excel(link, \"Country Migration\")\n",
        "  uniqueName = country['target_country_name'].unique()\n",
        "  return len(uniqueName)\n",
        "# run and test if you have the correct number of unique countries \n",
        "actual = migration(df)\n",
        "expected = 140\n",
        "\n",
        "if actual == expected:\n",
        "  print(\"Test passed\", actual)\n",
        "else: \n",
        "  print(\"Test failed expected\", expected, \"got\", actual)\n"
      ],
      "execution_count": 297,
      "outputs": [
        {
          "output_type": "stream",
          "name": "stdout",
          "text": [
            "Test passed 140\n"
          ]
        }
      ]
    },
    {
      "cell_type": "markdown",
      "metadata": {
        "id": "pQV2NO8umBSk"
      },
      "source": [
        "# Reflection\n",
        "----\n",
        "\n",
        "## What skills have you demonstrated in completing this notebook?"
      ]
    },
    {
      "cell_type": "markdown",
      "metadata": {
        "id": "NUVvt2r0mCKq"
      },
      "source": [
        "Your answer:"
      ]
    },
    {
      "cell_type": "markdown",
      "metadata": {
        "id": "SOrbWOuFmObq"
      },
      "source": [
        "## What caused you the most difficulty?"
      ]
    },
    {
      "cell_type": "markdown",
      "metadata": {
        "id": "G_eGng1GmO78"
      },
      "source": [
        "Your answer:"
      ]
    }
  ]
}