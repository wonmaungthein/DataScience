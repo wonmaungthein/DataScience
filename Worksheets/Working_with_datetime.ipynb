{
  "nbformat": 4,
  "nbformat_minor": 0,
  "metadata": {
    "colab": {
      "name": "Working with datetime.ipynb",
      "provenance": [],
      "collapsed_sections": [],
      "include_colab_link": true
    },
    "kernelspec": {
      "name": "python3",
      "display_name": "Python 3"
    },
    "language_info": {
      "name": "python"
    }
  },
  "cells": [
    {
      "cell_type": "markdown",
      "metadata": {
        "id": "view-in-github",
        "colab_type": "text"
      },
      "source": [
        "<a href=\"https://colab.research.google.com/github/wonmaungthein/DataScience/blob/main/Worksheets/Working_with_datetime.ipynb\" target=\"_parent\"><img src=\"https://colab.research.google.com/assets/colab-badge.svg\" alt=\"Open In Colab\"/></a>"
      ]
    },
    {
      "cell_type": "markdown",
      "metadata": {
        "id": "7iQyKP-SQiw1"
      },
      "source": [
        "### Working with the datetime library\n",
        "---\n"
      ]
    },
    {
      "cell_type": "markdown",
      "metadata": {
        "id": "Vi93h5I4QnKs"
      },
      "source": [
        "When working with dates and times, fairly common in data sets, we need to be able to extract certain bits of information.  \n",
        "\n",
        "In Python, as with other languages, dates and times are stored in a data structure that combines the two together and stores the information as a number of seconds since a start point (often 1st January 1900).  This is obviously a large number but every bit of information about a date can be extracted from it and used to give a wide range of information.  \n",
        "\n",
        "Have a go at the exercises below to use a selection of datetime functions and return a new bit of data from each, to be printed by the caller.\n",
        "\n",
        "Before you can use datetime functions you will need to import them. Import the datetime functions like this:\n",
        "\n",
        "`from datetime import datetime`  \n",
        "\n",
        "\n",
        "For more information about datetime functions visit [w3Schools-Python datetime](https://www.w3schools.com/python/python_datetime.asp) and [Python docs](https://docs.python.org/3/library/datetime.html)"
      ]
    },
    {
      "cell_type": "markdown",
      "metadata": {
        "id": "MIDLi7CNR034"
      },
      "source": [
        "---\n",
        "### Exercise 1 - print current date and time\n",
        "\n",
        "Write a function that will return the date and time now.  The caller will print it.  \n",
        "\n",
        "*Hint:  the format has been added for you, the other exercises will follow a similar format.   So that each cell can be run independently, always remember to import datetime from datetime as shown below*"
      ]
    },
    {
      "cell_type": "code",
      "metadata": {
        "id": "gS6GJdXbQfHp",
        "colab": {
          "base_uri": "https://localhost:8080/"
        },
        "outputId": "eeaf7e3c-5172-4a5f-d4b3-d36d5033a987"
      },
      "source": [
        "from datetime import datetime\n",
        "\n",
        "def get_datetime_now():\n",
        "  currentDate = datetime.now()\n",
        "  print(currentDate)\n",
        "  # add code below to get the current date and time\n",
        "\n",
        "\n",
        "# run the function get_datetime_now(), test visually\n",
        "print(get_datetime_now())"
      ],
      "execution_count": 12,
      "outputs": [
        {
          "output_type": "stream",
          "name": "stdout",
          "text": [
            "2021-09-27 17:08:54.259941\n",
            "None\n"
          ]
        }
      ]
    },
    {
      "cell_type": "markdown",
      "metadata": {
        "id": "Yy24sL0bUtpF"
      },
      "source": [
        "---\n",
        "### Exercise 2 - print the current year\n",
        "\n",
        "Write a function that will return the current year.  The caller will test that is the correct year."
      ]
    },
    {
      "cell_type": "code",
      "metadata": {
        "id": "YqlQqPIqUtyr",
        "colab": {
          "base_uri": "https://localhost:8080/"
        },
        "outputId": "2e769fa9-ccba-41a6-e501-28ad4ed0a501"
      },
      "source": [
        "from datetime import datetime\n",
        "\n",
        "def get_year():\n",
        "  today = datetime.now()\n",
        "  year = today.year\n",
        "  #add code below to return the current year\n",
        "\n",
        "  return year\n",
        "  \n",
        "# run and test the get_year() function against expected answer\n",
        "actual = get_year()\n",
        "expected = 2021\n",
        "if actual == expected:\n",
        "  print(\"Test passed\", actual)\n",
        "else:\n",
        "  print(\"Test failed\",\"Should have got\", expected, \"got\", actual )"
      ],
      "execution_count": 14,
      "outputs": [
        {
          "output_type": "stream",
          "name": "stdout",
          "text": [
            "Test passed 2021\n"
          ]
        }
      ]
    },
    {
      "cell_type": "code",
      "metadata": {
        "id": "OP4ZIXBWV1Yj",
        "colab": {
          "base_uri": "https://localhost:8080/"
        },
        "outputId": "d3180381-067f-48e5-80da-bbba1201742e"
      },
      "source": [
        "from datetime import datetime\n",
        "\n",
        "def get_current_day():\n",
        "  today = datetime.now()\n",
        "  day = today.strftime(\"%A\")\n",
        "  #add code below to print the name of the current day of week\n",
        "  \n",
        "  return day\n",
        "  \n",
        "# run and test the get_current_day() function against expected answer (change the expected answer if today is not Monday)  \n",
        "actual = get_current_day()\n",
        "expected = \"Monday\"\n",
        "if actual == expected:\n",
        "  print(\"Test passed\", actual)\n",
        "else:\n",
        "  print(\"Test failed\",\"Should have got\", expected, \"got\", actual )"
      ],
      "execution_count": 43,
      "outputs": [
        {
          "output_type": "stream",
          "name": "stdout",
          "text": [
            "Test passed Monday\n"
          ]
        }
      ]
    },
    {
      "cell_type": "markdown",
      "metadata": {
        "id": "FzSVCaJKV1O1"
      },
      "source": [
        "---\n",
        "### Exercise 3 - print the current day of the week\n",
        "\n",
        "Write a function that will return the current day of the week.  The caller will print it."
      ]
    },
    {
      "cell_type": "markdown",
      "metadata": {
        "id": "a8euCtdmWIDE"
      },
      "source": [
        "---\n",
        "### Exercise 4 - create a new date\n",
        "\n",
        "Write a function that will take 3 parameters, year, month, day (3 numbers that make a valid date) and will create, and return a new date.  The caller will print the date."
      ]
    },
    {
      "cell_type": "code",
      "metadata": {
        "id": "FbOFnTwnWILN",
        "colab": {
          "base_uri": "https://localhost:8080/"
        },
        "outputId": "b0cbd318-6d5c-4a61-9041-3f13133c7aa3"
      },
      "source": [
        "from datetime import datetime\n",
        "\n",
        "def create_new_date(day,month,year):\n",
        "  date = datetime(int(2021), int(2), 6)\n",
        "\n",
        "   #add code below to take year, month, day and return a new date \n",
        "\n",
        "  return date\n",
        "\n",
        "# run and test the function create_new_date(day, month, year)\n",
        "actual = str(create_new_date(6,2,2021))\n",
        "expected = \"2021-02-06 00:00:00\"\n",
        "if actual == expected:\n",
        "  print(\"Test passed\", actual)\n",
        "else:\n",
        "  print(\"Test failed\",\"Should have got\", expected, \"got\", actual )"
      ],
      "execution_count": 55,
      "outputs": [
        {
          "output_type": "stream",
          "name": "stdout",
          "text": [
            "Test passed 2021-02-06 00:00:00\n"
          ]
        }
      ]
    },
    {
      "cell_type": "markdown",
      "metadata": {
        "id": "f5SKVuE0WfcE"
      },
      "source": [
        "---\n",
        "### Exercise 5 - create a valid date\n",
        "\n",
        "Write a function that will take 3 parameters, year, month, day (3 numbers) and will:  \n",
        "*   check that the month is between 1 and 12  \n",
        "*   check that the day is valid for the month (e.g. if the month is 2, then the day must be between 1 and 28 (don't worry about leap years for the moment)  \n",
        "*   if the date is not valid, print an error message and return None    \n",
        "*   if the date is valid, store it in a new variable, return the variable."
      ]
    },
    {
      "cell_type": "code",
      "metadata": {
        "id": "gclt-f9-XfdG",
        "colab": {
          "base_uri": "https://localhost:8080/"
        },
        "outputId": "95634452-a4e2-4194-88f3-0bcfa670771b"
      },
      "source": [
        "from datetime import datetime\n",
        "\n",
        "def create_valid_date(year, month, day):\n",
        "  date = datetime(int(2021), int(2), 6)\n",
        "  # date = datetime(6, int(2), int(2021))\n",
        "\n",
        "  return date\n",
        "\n",
        "    #write a function to take 3 parameters, check them and return the date or a message\n",
        "    \n",
        "    \n",
        "# run and test the function create_new_date(day, month, year) with a valid date\n",
        "actual = create_valid_date(6,2,2021)\n",
        "expected = \"2021-02-06 00:00:00\"\n",
        "if str(actual) == expected:\n",
        "    print(\"Test 1 passed\", actual)\n",
        "else:\n",
        "  print(\"Test 1 failed\",\"Should have got\", expected, \"got\", actual)\n",
        "\n",
        "# run and test the function create_new_date(day, month, year) with an invalid date\n",
        "actual = create_valid_date(6,20,2021)\n",
        "expected = None\n",
        "if actual == expected:\n",
        "  print(\"Test 2 passed\", expected)\n",
        "else:\n",
        "  print(\"Test 2 failed\",\"Should have got\", expected, \"got\", actual )\n",
        "\n"
      ],
      "execution_count": 13,
      "outputs": [
        {
          "output_type": "stream",
          "name": "stdout",
          "text": [
            "Test 1 passed 2021-02-06 00:00:00\n",
            "Test 2 failed Should have got None got 2021-02-06 00:00:00\n"
          ]
        }
      ]
    },
    {
      "cell_type": "markdown",
      "metadata": {
        "id": "9BuRDi08YAO0"
      },
      "source": [
        "---\n",
        "### Exercise 6 - display parts of date/time\n",
        "\n",
        "Write a function that will take a date and print from it the following:  \n",
        "*  local version of date and time  \n",
        "*  year (in full) \n",
        "*  month (as a number) \n",
        "*  month name \n",
        "*  week number of the year  \n",
        "*  weekday of the week (as a number)  \n",
        "*  day number of year  \n",
        "*  day of the month  \n",
        "*  day of week (as a name)  \n",
        "\n",
        "*Hint:  see w3Schools for [strftime reference](https://www.w3schools.com/python/python_datetime.asp)*\n",
        "\n",
        "**Expected output**:  \n",
        "Thu Sep 16 00:00:00 2021  \n",
        "2021  \n",
        "8  \n",
        "4  \n",
        "Thursday  \n",
        "259  \n",
        "16  \n",
        "\n",
        "\n"
      ]
    },
    {
      "cell_type": "code",
      "metadata": {
        "id": "zl-37Ez9ahym",
        "colab": {
          "base_uri": "https://localhost:8080/"
        },
        "outputId": "2cb13e86-810d-4f16-ac1c-81db343d1c68"
      },
      "source": [
        "from datetime import datetime\n",
        "\n",
        "def display_date_parts(year, month_as_num, day):\n",
        "  date = datetime.now()\n",
        "  day = date.strftime(\"%A\")\n",
        "  year = datetime.today().year\n",
        "\n",
        "  # write a function to take a date and format it.\n",
        "\n",
        "  return (date, day, year )\n",
        "\n",
        "\n",
        "# run the function display_date_parts(2021, 9, 6) and test by observation\n",
        "display_date_parts(2021, 9, 16)"
      ],
      "execution_count": 14,
      "outputs": [
        {
          "output_type": "execute_result",
          "data": {
            "text/plain": [
              "(datetime.datetime(2021, 9, 27, 22, 10, 53, 341764), 'Monday', 2021)"
            ]
          },
          "metadata": {},
          "execution_count": 14
        }
      ]
    },
    {
      "cell_type": "markdown",
      "metadata": {
        "id": "_rpTIoSDaiBj"
      },
      "source": [
        "---\n",
        "### Exercise 7 - next 6 days\n",
        "\n",
        "Write a function that will take a date and generate the dates of the following 6 days.  It should print each of the 6 days in the form:  \n",
        "\n",
        "DAY OF THE WEEK, DAY NUMBER, MONTH NAME, FULL YEAR\n",
        "\n",
        "Hint:  to generate the days, use the function datetime.timedelta(), there is a good example of its use [here](https://www.geeksforgeeks.org/python-datetime-timedelta-function/)  \n",
        "\n",
        "**Expected output**:  \n",
        "Monday 24 May 2021  \n",
        "Tuesday 25 May 2021  \n",
        "Wednesday 26 May 2021  \n",
        "Thursday 27 May 2021  \n",
        "Friday 28 May 2021  \n",
        "Saturday 29 May 2021  \n"
      ]
    },
    {
      "cell_type": "code",
      "metadata": {
        "id": "1d-oXqLLb0vX",
        "colab": {
          "base_uri": "https://localhost:8080/",
          "height": 37
        },
        "outputId": "702c3685-ecdb-435e-8373-82c1c92e46d8"
      },
      "source": [
        "from datetime import date, timedelta\n",
        "\n",
        "def get_next_6_days(year,month,day):\n",
        "  ini_time_for_now = datetime.now()\n",
        "  datetime_object = datetime.strptime(str(month),\"%m\")\n",
        "  month_name = datetime_object.strftime(\"%b\")\n",
        "  full_month_name = datetime_object.strftime(\"%B\")\n",
        "  formattedLine = (str(day) + ' ' + month_name + ' ' + str(year))\n",
        "\n",
        "\n",
        "  datetime.timedelta(days=0, seconds=0, microseconds=0, milliseconds=0, minutes=0, hours=0, weeks=0)\n",
        "\n",
        "  returns : Date\n",
        "  # return (formattedLine)\n",
        "\n",
        "  #write a function to generate the dates for the next 6 days\n",
        "  \n",
        "\n",
        "# run the function get_next_6_days and test visually\n",
        "get_next_6_days(2021, 5, 23)"
      ],
      "execution_count": 71,
      "outputs": [
        {
          "output_type": "execute_result",
          "data": {
            "application/vnd.google.colaboratory.intrinsic+json": {
              "type": "string"
            },
            "text/plain": [
              "'23 May 2021'"
            ]
          },
          "metadata": {},
          "execution_count": 71
        }
      ]
    },
    {
      "cell_type": "markdown",
      "metadata": {
        "id": "pQV2NO8umBSk"
      },
      "source": [
        "# Reflection\n",
        "----\n",
        "\n",
        "## What you learnt through completing this notebook?"
      ]
    },
    {
      "cell_type": "markdown",
      "metadata": {
        "id": "NUVvt2r0mCKq"
      },
      "source": [
        "Your answer:"
      ]
    },
    {
      "cell_type": "markdown",
      "metadata": {
        "id": "SOrbWOuFmObq"
      },
      "source": [
        "## What caused you the most difficulty?"
      ]
    },
    {
      "cell_type": "markdown",
      "metadata": {
        "id": "G_eGng1GmO78"
      },
      "source": [
        "Your answer:"
      ]
    }
  ]
}