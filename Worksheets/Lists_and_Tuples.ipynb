{
  "nbformat": 4,
  "nbformat_minor": 0,
  "metadata": {
    "colab": {
      "name": "Lists and Tuples.ipynb",
      "provenance": [],
      "collapsed_sections": [],
      "include_colab_link": true
    },
    "kernelspec": {
      "name": "python3",
      "display_name": "Python 3"
    },
    "language_info": {
      "name": "python"
    }
  },
  "cells": [
    {
      "cell_type": "markdown",
      "metadata": {
        "id": "view-in-github",
        "colab_type": "text"
      },
      "source": [
        "<a href=\"https://colab.research.google.com/github/wonmaungthein/DataScience/blob/main/Worksheets/Lists_and_Tuples.ipynb\" target=\"_parent\"><img src=\"https://colab.research.google.com/assets/colab-badge.svg\" alt=\"Open In Colab\"/></a>"
      ]
    },
    {
      "cell_type": "markdown",
      "metadata": {
        "id": "Z-M-RCWATK71"
      },
      "source": [
        "# Lists and tuples\n",
        "\n",
        "Often we need to store a number of single items of data together so that they can be processed together. This might be because all the data refers to one person (e.g. name, age, gender, etc) OR it might be because we have a set of data (e.g. all the items that should be displayed in a drop down list, such as all the years from this year back to 100 years ago so that someone can select their year of birth)\n",
        "\n",
        "Python has a range of data structures available including:\n",
        "*   lists  \n",
        "*   tuples  \n",
        "*   dictionaries  \n",
        "*   sets\n",
        "\n",
        "This worksheet looks at lists and tuples.\n",
        "\n",
        "## List\n",
        "A list is a set of related, individual data objects, that are indexed and can be processed as a whole, as subsets or as individual items.  Lists are stored, essentially, as contiguous items in memory so that access can be as quick as possible.  However, they are mutable (they can be changed after they are created and stored) and so those mechanisms need to include extra functionality to deal with changing list sizes.\n",
        "\n",
        "## Tuple\n",
        "Essentially the same as a list but it is immutable.  Once it has been created it can't be changed.  It is stored in memory as contiguous items, with the size required being fixed right from the start.  This makes it faster to access.\n",
        "\n",
        "The code below will create two lists and a tuple.\n",
        "*   the first list contains 1000 random numbers between 1 and 100\n",
        "*   the second list is of random length (up to 5000) and each item is one of the 9 characteristics that are protected under the Equality Act in the UK.\n",
        "*   the tuple contains the 9 protected characteristics\n",
        "\n",
        "Before you start the exercises, run the code cell below.  It will generate the lists and tuple so that you can use them in the exercises.  If you need to recreate the lists again (because you have changed them and need to work on the originals, just run this cell again).\n",
        "\n",
        "***Note:***  *a list variable contains a reference to the start of the list in memory, rather than storing the list itself.  This means that if you assign the list to another variable (to make a copy), it will only copy across the reference.  If you change the copy, you change the original list.*\n",
        "\n",
        "*If you need to make a copy of the list you will need to use a loop to create a new list and copy all items across.*"
      ]
    },
    {
      "cell_type": "code",
      "metadata": {
        "id": "BDRckXeQXFMT"
      },
      "source": [
        "from random import randint, choice\n",
        "\n",
        "def get_num_list():\n",
        "  num_list = [randint(1,100) for n in range(1000)]\n",
        "  return num_list\n",
        "\n",
        "def get_protected_characteristics():\n",
        "  characteristics_tuple = ('age','disability','gender reassignment','marriage and civil partnership','pregnancy and maternity','race','religion or belief','sex','sexual orientation')\n",
        "  return characteristics_tuple\n",
        "\n",
        "def get_protected_characteristic_list(protected_characteristics):\n",
        "  char_list = [choice(protected_characteristics) for ch in range(randint(1,5000))]\n",
        "  return char_list\n",
        "\n",
        "nums = get_num_list()\n",
        "protected_characteristics = get_protected_characteristics()\n",
        "characteristics = get_protected_characteristic_list(protected_characteristics)"
      ],
      "execution_count": 2,
      "outputs": []
    },
    {
      "cell_type": "markdown",
      "metadata": {
        "id": "xXT38-4ZV45n"
      },
      "source": [
        "## The exercises below will use the lists:  \n",
        "*   **nums** (a list of between 1 and 1000 random numbers, each number is between 0 and 1000)\n",
        "*   **characteristics** (a list of 5000 random protected_characteristics)\n",
        "\n",
        "and the tuple:\n",
        "*  **protected_characteristics** (a set of the 9 protected characteristics identified in the Equality Act)\n",
        "\n",
        "## You can run the cell above any number of times to generate new lists."
      ]
    },
    {
      "cell_type": "markdown",
      "metadata": {
        "id": "Ft0dXl7fUuaK"
      },
      "source": [
        "---\n",
        "### Exercise 1 - list head, tail and shape\n",
        "\n",
        "Write a function, **describe_list()** which will:\n",
        "*  print the length of the list `nums`\n",
        "*  print the first 10 items in `nums`  \n",
        "*  print the last 5 items in `nums`\n",
        "\n",
        "**Expected output**  \n",
        "Length is between 1 and 1000  \n",
        "A list of 10 numbers between 1 and 100  \n",
        "A list of 5 numbers between 1 and 100  "
      ]
    },
    {
      "cell_type": "code",
      "metadata": {
        "id": "jUcZD7mmTJdA",
        "outputId": "f26c8cf2-9929-4291-b11b-70d6a1078f6a",
        "colab": {
          "base_uri": "https://localhost:8080/"
        }
      },
      "source": [
        "def describe_list():\n",
        "  lenghtOfNums = len(nums)\n",
        "  firstTenNums = nums[0:10]\n",
        "  firstFiveNums = nums[0:5]\n",
        "  print('Length is between 1 and 1000 is :', lenghtOfNums)\n",
        "  print('A list of 10 numbers between 1 and 100 is :', firstTenNums)\n",
        "  print('A list of 5 numbers between 1 and 100 is :', firstFiveNums)\n",
        "  #write a function to print items from the list\n",
        "\n",
        "\n",
        "# run the describe_list() function and observe the output\n",
        "describe_list()"
      ],
      "execution_count": 9,
      "outputs": [
        {
          "output_type": "stream",
          "name": "stdout",
          "text": [
            "Length is between 1 and 1000 is : 1000\n",
            "A list of 10 numbers between 1 and 100 is : [98, 94, 12, 14, 71, 46, 12, 8, 92, 90]\n",
            "A list of 5 numbers between 1 and 100 is : [98, 94, 12, 14, 71]\n"
          ]
        }
      ]
    },
    {
      "cell_type": "markdown",
      "metadata": {
        "id": "yNWg08k6bXv0"
      },
      "source": [
        "---\n",
        "### Exercise 2 - show tuple items\n",
        "\n",
        "Write a function which will:\n",
        "*   use a loop to print the list of protected characteristics from the `protected_characteristics` tuple.\n"
      ]
    },
    {
      "cell_type": "code",
      "metadata": {
        "id": "P2HnCG9pb1BS",
        "outputId": "d9289732-cbd0-4940-8105-acd7da675705",
        "colab": {
          "base_uri": "https://localhost:8080/"
        }
      },
      "source": [
        "def print_protected_chars():\n",
        "  for chars in protected_characteristics:\n",
        "    print(chars)\n",
        "  # print(protected_characteristics)\n",
        "  #write a function that will print the list of protected characteristics\n",
        "\n",
        "  \n",
        "# run the function print_protected_chars()\n",
        "print_protected_chars()"
      ],
      "execution_count": 14,
      "outputs": [
        {
          "output_type": "stream",
          "name": "stdout",
          "text": [
            "age\n",
            "disability\n",
            "gender reassignment\n",
            "marriage and civil partnership\n",
            "pregnancy and maternity\n",
            "race\n",
            "religion or belief\n",
            "sex\n",
            "sexual orientation\n"
          ]
        }
      ]
    },
    {
      "cell_type": "markdown",
      "metadata": {
        "id": "RTSuQZs4b1JU"
      },
      "source": [
        "---\n",
        "### Exercise 3 - list a random subset\n",
        "\n",
        "Write a function which will:\n",
        "*  calculate the position of the middle item in the `characteristics` list   \n",
        "(*Hint: use len() to help with this*)\n",
        "*  calculate the position of the item that is 5 places before the middle item\n",
        "*  calculate the position of the item that is 5 places after the middle item\n",
        "*  print the part of the list that includes the items from 5 places before to 5 places after.  \n",
        "\n",
        "Expected output:  \n",
        "Your list will include 10 items."
      ]
    },
    {
      "cell_type": "code",
      "metadata": {
        "id": "OwhFnH2kdC11",
        "outputId": "7cb376a8-217c-4e14-db3f-e48927396be7",
        "colab": {
          "base_uri": "https://localhost:8080/"
        }
      },
      "source": [
        "def print_mid_items():\n",
        "  lengthOfList = int(len(characteristics)/2)\n",
        "\n",
        "  characteristicsList = characteristics[lengthOfList - 5 : lengthOfList + 5]\n",
        "  print(lengthOfList)\n",
        "  print(characteristicsList)\n",
        "\n",
        "  #write a function that will find the middle of a list and print the items either side of it\n",
        "  \n",
        "      \n",
        "\n",
        "print_mid_items()"
      ],
      "execution_count": 20,
      "outputs": [
        {
          "output_type": "stream",
          "name": "stdout",
          "text": [
            "76\n",
            "['pregnancy and maternity', 'gender reassignment', 'gender reassignment', 'marriage and civil partnership', 'sex', 'pregnancy and maternity', 'marriage and civil partnership', 'religion or belief', 'disability', 'disability']\n"
          ]
        }
      ]
    },
    {
      "cell_type": "markdown",
      "metadata": {
        "id": "KS0x3oFNePI9"
      },
      "source": [
        "---\n",
        "### Exercise 4 - create a copy\n",
        "\n",
        "Write a function which will use a for loop to create a copy of the `nums` list:\n",
        "\n",
        "*   create a new, empty, list called **new_nums**  (*Hint: an empty list is [ ]*)\n",
        "*   use a `for` loop which uses the following syntax:  `for num in nums:`\n",
        "*   each time round the loop append `num` to `new_nums`  ( *`new_nums.append(num)`*)\n",
        "*   print the first 10 items of `new_nums`\n",
        "*   print the first 10 items of `nums`\n",
        "*   print the length of both lists"
      ]
    },
    {
      "cell_type": "code",
      "metadata": {
        "id": "mpK1Ip3we-uC",
        "outputId": "9e6f4aeb-f1f5-45bc-fc93-6ecb0b26be25",
        "colab": {
          "base_uri": "https://localhost:8080/"
        }
      },
      "source": [
        "def display_new_nums():\n",
        "  new_nums = []\n",
        "  for num in nums:\n",
        "    new_nums.append(num)\n",
        "\n",
        "  print(new_nums[0:10])\n",
        "  print(nums[0:10])\n",
        "  print(len(nums),len(new_nums))\n",
        "  #write a function to use a for loop to create a copy of new_nums and print given items\n",
        "\n",
        "# run the function display_new_nums() and observe\n",
        "display_new_nums()"
      ],
      "execution_count": 25,
      "outputs": [
        {
          "output_type": "stream",
          "name": "stdout",
          "text": [
            "[98, 94, 12, 14, 71, 46, 12, 8, 92, 90]\n",
            "[98, 94, 12, 14, 71, 46, 12, 8, 92, 90]\n",
            "1000 1000\n"
          ]
        }
      ]
    },
    {
      "cell_type": "markdown",
      "metadata": {
        "id": "deUIFWjRe-3G"
      },
      "source": [
        "---\n",
        "### Exercise 5 - count the occurrence of age in characteristics\n",
        "\n",
        "Write a function which will use the list method:\n",
        "\n",
        "`list_name.count(item)`\n",
        "\n",
        "to count the number of occurrences of 'age' in the `characteristics` list.  Print the result."
      ]
    },
    {
      "cell_type": "code",
      "metadata": {
        "id": "b9TrHQ9hfoIU",
        "outputId": "f9294ec7-3a49-4b00-c974-cb8de728039d",
        "colab": {
          "base_uri": "https://localhost:8080/"
        }
      },
      "source": [
        "def count_age():\n",
        "  return characteristics.count('age')\n",
        "  #write a function to count the occurrences of \"age\"\n",
        "\n",
        "\n",
        "# run the function count_age() and observe the result\n",
        "count_age()"
      ],
      "execution_count": 28,
      "outputs": [
        {
          "output_type": "execute_result",
          "data": {
            "text/plain": [
              "19"
            ]
          },
          "metadata": {},
          "execution_count": 28
        }
      ]
    },
    {
      "cell_type": "markdown",
      "metadata": {
        "id": "zm2VI5RmfoSy"
      },
      "source": [
        "---\n",
        "### Exercise 6 - sort the nums list\n",
        "\n",
        "Write a function which will:\n",
        "*   call the function `get_num_list()` and store the result in a new list called **sort_nums**\n",
        "*   print the first, and last, 20 items in the `sort_nums` list\n",
        "*   use the `list_name.sort()` method to sort the `sort_nums` list into ascending order\n",
        "*   print the first, and last, 20 items again  \n",
        "*   use the `list_name.sort()` method again to sort the `sort_nums` list into descending order\n",
        "*   print the first, and last, 20 items again"
      ]
    },
    {
      "cell_type": "code",
      "metadata": {
        "id": "Fksgpj9JgWDs",
        "outputId": "f37f9e9b-93a8-4dec-eb5c-84e202324878",
        "colab": {
          "base_uri": "https://localhost:8080/"
        }
      },
      "source": [
        "def sort_nums():\n",
        "  sort_nums = get_num_list()\n",
        "  firstNum = sort_nums[0:20]\n",
        "  lastNum = sort_nums[-20:]\n",
        "\n",
        "  firstNum.sort(reverse = True)\n",
        "  lastNum.sort(reverse = False)\n",
        "\n",
        "  print(sort_nums)\n",
        "  print(firstNum)\n",
        "  print(lastNum)\n",
        "  print(firstNum)\n",
        "  print(sort_nums)\n",
        "\n",
        "  #write a function to sort the get_num_list() and print given items\n",
        "\n",
        "\n",
        "# run the function sort_nums() and observe the results\n",
        "sort_nums()"
      ],
      "execution_count": 64,
      "outputs": [
        {
          "output_type": "stream",
          "name": "stdout",
          "text": [
            "[7, 69, 85, 72, 32, 16, 14, 69, 12, 87, 52, 79, 81, 4, 32, 11, 100, 15, 94, 85, 52, 38, 19, 73, 67, 99, 57, 33, 71, 71, 62, 17, 72, 87, 48, 47, 56, 49, 92, 86, 22, 32, 48, 84, 7, 64, 37, 1, 45, 1, 9, 64, 17, 18, 7, 10, 48, 100, 32, 81, 9, 97, 25, 51, 63, 36, 50, 63, 98, 22, 50, 51, 47, 32, 24, 62, 62, 29, 14, 10, 62, 98, 25, 99, 28, 76, 66, 55, 40, 88, 94, 37, 29, 23, 97, 48, 38, 39, 56, 61, 26, 56, 74, 39, 74, 59, 47, 50, 35, 28, 9, 58, 40, 11, 39, 51, 82, 77, 46, 54, 92, 90, 91, 42, 55, 32, 93, 21, 50, 92, 12, 59, 47, 10, 54, 71, 65, 76, 50, 38, 94, 29, 64, 38, 52, 50, 60, 15, 64, 73, 48, 8, 65, 22, 61, 19, 85, 100, 98, 26, 83, 24, 80, 55, 43, 19, 55, 10, 26, 1, 51, 42, 13, 78, 85, 98, 56, 62, 66, 86, 40, 82, 11, 66, 55, 29, 99, 78, 33, 82, 47, 94, 3, 29, 38, 60, 90, 61, 21, 52, 25, 18, 32, 39, 52, 49, 82, 91, 48, 33, 55, 73, 61, 88, 66, 28, 21, 53, 74, 87, 74, 99, 97, 50, 60, 16, 58, 69, 57, 68, 42, 88, 93, 39, 53, 100, 93, 61, 85, 2, 49, 17, 87, 37, 13, 81, 3, 93, 8, 3, 78, 13, 74, 73, 28, 83, 63, 77, 86, 94, 72, 31, 79, 60, 66, 43, 43, 82, 20, 31, 17, 54, 88, 43, 20, 2, 44, 100, 36, 21, 97, 65, 39, 52, 56, 2, 41, 73, 27, 15, 67, 34, 43, 8, 90, 87, 86, 54, 3, 44, 70, 98, 89, 39, 96, 71, 19, 47, 17, 28, 40, 29, 89, 96, 32, 64, 73, 65, 67, 19, 8, 17, 94, 55, 23, 82, 20, 66, 96, 76, 60, 86, 86, 89, 89, 66, 48, 26, 16, 2, 61, 14, 82, 66, 29, 60, 76, 84, 29, 27, 61, 49, 43, 66, 76, 50, 85, 98, 58, 27, 96, 23, 65, 71, 91, 35, 39, 68, 28, 80, 36, 38, 22, 74, 61, 5, 67, 59, 63, 95, 41, 38, 10, 80, 45, 24, 8, 62, 88, 8, 63, 6, 31, 64, 73, 16, 61, 30, 73, 24, 39, 56, 74, 39, 38, 42, 29, 67, 14, 33, 19, 4, 82, 37, 12, 14, 61, 69, 12, 24, 22, 21, 23, 23, 17, 40, 58, 43, 77, 47, 97, 88, 72, 28, 1, 77, 46, 21, 9, 67, 36, 25, 82, 38, 33, 87, 70, 63, 78, 91, 68, 91, 1, 45, 90, 13, 90, 35, 19, 2, 26, 67, 74, 41, 52, 35, 62, 80, 88, 38, 65, 6, 56, 59, 29, 94, 68, 36, 65, 66, 27, 6, 6, 91, 94, 94, 8, 32, 58, 53, 87, 16, 90, 8, 53, 76, 52, 87, 79, 100, 54, 75, 23, 91, 43, 25, 17, 95, 55, 68, 68, 1, 23, 32, 59, 99, 5, 74, 5, 7, 31, 65, 57, 57, 27, 87, 69, 8, 69, 6, 53, 21, 64, 16, 64, 70, 99, 17, 75, 51, 25, 14, 84, 1, 55, 73, 33, 76, 52, 95, 21, 38, 10, 5, 16, 6, 56, 60, 2, 82, 30, 48, 10, 40, 35, 60, 15, 80, 81, 61, 19, 81, 42, 14, 87, 79, 62, 90, 16, 59, 85, 53, 3, 91, 65, 15, 56, 96, 16, 11, 94, 30, 46, 87, 97, 20, 94, 24, 52, 15, 38, 39, 18, 11, 62, 26, 19, 26, 23, 56, 80, 97, 74, 29, 7, 8, 83, 83, 92, 25, 32, 74, 47, 90, 67, 34, 86, 11, 48, 96, 27, 95, 2, 57, 46, 44, 68, 41, 13, 67, 86, 31, 18, 63, 78, 11, 14, 71, 3, 90, 76, 27, 94, 67, 95, 29, 9, 99, 55, 20, 74, 37, 47, 13, 4, 92, 79, 25, 14, 25, 45, 17, 69, 12, 36, 73, 68, 73, 16, 100, 41, 13, 93, 3, 21, 70, 99, 86, 18, 89, 25, 30, 81, 16, 99, 82, 27, 69, 75, 12, 48, 47, 12, 65, 50, 4, 5, 39, 55, 18, 79, 70, 24, 98, 86, 86, 34, 58, 62, 7, 71, 96, 72, 30, 1, 69, 34, 22, 44, 64, 43, 80, 75, 23, 43, 94, 5, 40, 73, 9, 74, 96, 57, 99, 93, 57, 43, 26, 45, 94, 83, 79, 86, 72, 51, 11, 41, 9, 20, 15, 30, 37, 92, 58, 32, 28, 78, 18, 52, 48, 14, 100, 83, 39, 80, 3, 4, 78, 69, 51, 49, 74, 94, 38, 5, 43, 21, 34, 28, 34, 1, 48, 24, 7, 29, 50, 81, 51, 60, 37, 47, 100, 14, 95, 8, 62, 98, 22, 69, 27, 58, 8, 72, 10, 44, 59, 99, 25, 91, 65, 46, 17, 68, 100, 97, 48, 72, 77, 91, 44, 89, 40, 42, 85, 11, 86, 26, 83, 9, 97, 13, 71, 91, 98, 3, 68, 73, 33, 3, 67, 40, 77, 63, 56, 72, 38, 61, 24, 9, 84, 26, 56, 25, 17, 14, 57, 84, 14, 8, 98, 31, 22, 89, 31, 64, 37, 22, 8, 89, 57, 36, 66, 35, 67, 1, 24, 3, 84, 75, 33, 38, 28, 39, 16, 3, 34, 81, 5, 6, 17, 8, 69, 35, 33, 70, 47, 81, 43, 57, 1, 66, 77, 69, 26, 15, 96, 78, 2, 4, 13, 59, 76, 100, 9, 5, 68, 76, 2, 81, 69, 15, 91, 29, 22, 34, 6, 8, 91, 95, 70, 4, 65, 59, 18, 73, 48, 47, 64, 89, 93, 24, 21, 22, 5, 55, 82, 99, 95, 37, 69, 45, 43, 31, 60, 5, 28, 90, 71, 78, 89, 45, 14, 10, 27, 96, 54, 76, 1, 10, 91, 24, 43, 87, 50, 1, 57, 25, 16, 3, 35, 87, 3, 32, 47, 42, 60, 87, 69, 56, 66]\n",
            "[100, 94, 87, 85, 85, 81, 79, 72, 69, 69, 52, 32, 32, 16, 15, 14, 12, 11, 7, 4]\n",
            "[1, 3, 3, 16, 24, 25, 32, 35, 42, 43, 47, 50, 56, 57, 60, 66, 69, 87, 87, 87]\n",
            "[100, 94, 87, 85, 85, 81, 79, 72, 69, 69, 52, 32, 32, 16, 15, 14, 12, 11, 7, 4]\n",
            "[7, 69, 85, 72, 32, 16, 14, 69, 12, 87, 52, 79, 81, 4, 32, 11, 100, 15, 94, 85, 52, 38, 19, 73, 67, 99, 57, 33, 71, 71, 62, 17, 72, 87, 48, 47, 56, 49, 92, 86, 22, 32, 48, 84, 7, 64, 37, 1, 45, 1, 9, 64, 17, 18, 7, 10, 48, 100, 32, 81, 9, 97, 25, 51, 63, 36, 50, 63, 98, 22, 50, 51, 47, 32, 24, 62, 62, 29, 14, 10, 62, 98, 25, 99, 28, 76, 66, 55, 40, 88, 94, 37, 29, 23, 97, 48, 38, 39, 56, 61, 26, 56, 74, 39, 74, 59, 47, 50, 35, 28, 9, 58, 40, 11, 39, 51, 82, 77, 46, 54, 92, 90, 91, 42, 55, 32, 93, 21, 50, 92, 12, 59, 47, 10, 54, 71, 65, 76, 50, 38, 94, 29, 64, 38, 52, 50, 60, 15, 64, 73, 48, 8, 65, 22, 61, 19, 85, 100, 98, 26, 83, 24, 80, 55, 43, 19, 55, 10, 26, 1, 51, 42, 13, 78, 85, 98, 56, 62, 66, 86, 40, 82, 11, 66, 55, 29, 99, 78, 33, 82, 47, 94, 3, 29, 38, 60, 90, 61, 21, 52, 25, 18, 32, 39, 52, 49, 82, 91, 48, 33, 55, 73, 61, 88, 66, 28, 21, 53, 74, 87, 74, 99, 97, 50, 60, 16, 58, 69, 57, 68, 42, 88, 93, 39, 53, 100, 93, 61, 85, 2, 49, 17, 87, 37, 13, 81, 3, 93, 8, 3, 78, 13, 74, 73, 28, 83, 63, 77, 86, 94, 72, 31, 79, 60, 66, 43, 43, 82, 20, 31, 17, 54, 88, 43, 20, 2, 44, 100, 36, 21, 97, 65, 39, 52, 56, 2, 41, 73, 27, 15, 67, 34, 43, 8, 90, 87, 86, 54, 3, 44, 70, 98, 89, 39, 96, 71, 19, 47, 17, 28, 40, 29, 89, 96, 32, 64, 73, 65, 67, 19, 8, 17, 94, 55, 23, 82, 20, 66, 96, 76, 60, 86, 86, 89, 89, 66, 48, 26, 16, 2, 61, 14, 82, 66, 29, 60, 76, 84, 29, 27, 61, 49, 43, 66, 76, 50, 85, 98, 58, 27, 96, 23, 65, 71, 91, 35, 39, 68, 28, 80, 36, 38, 22, 74, 61, 5, 67, 59, 63, 95, 41, 38, 10, 80, 45, 24, 8, 62, 88, 8, 63, 6, 31, 64, 73, 16, 61, 30, 73, 24, 39, 56, 74, 39, 38, 42, 29, 67, 14, 33, 19, 4, 82, 37, 12, 14, 61, 69, 12, 24, 22, 21, 23, 23, 17, 40, 58, 43, 77, 47, 97, 88, 72, 28, 1, 77, 46, 21, 9, 67, 36, 25, 82, 38, 33, 87, 70, 63, 78, 91, 68, 91, 1, 45, 90, 13, 90, 35, 19, 2, 26, 67, 74, 41, 52, 35, 62, 80, 88, 38, 65, 6, 56, 59, 29, 94, 68, 36, 65, 66, 27, 6, 6, 91, 94, 94, 8, 32, 58, 53, 87, 16, 90, 8, 53, 76, 52, 87, 79, 100, 54, 75, 23, 91, 43, 25, 17, 95, 55, 68, 68, 1, 23, 32, 59, 99, 5, 74, 5, 7, 31, 65, 57, 57, 27, 87, 69, 8, 69, 6, 53, 21, 64, 16, 64, 70, 99, 17, 75, 51, 25, 14, 84, 1, 55, 73, 33, 76, 52, 95, 21, 38, 10, 5, 16, 6, 56, 60, 2, 82, 30, 48, 10, 40, 35, 60, 15, 80, 81, 61, 19, 81, 42, 14, 87, 79, 62, 90, 16, 59, 85, 53, 3, 91, 65, 15, 56, 96, 16, 11, 94, 30, 46, 87, 97, 20, 94, 24, 52, 15, 38, 39, 18, 11, 62, 26, 19, 26, 23, 56, 80, 97, 74, 29, 7, 8, 83, 83, 92, 25, 32, 74, 47, 90, 67, 34, 86, 11, 48, 96, 27, 95, 2, 57, 46, 44, 68, 41, 13, 67, 86, 31, 18, 63, 78, 11, 14, 71, 3, 90, 76, 27, 94, 67, 95, 29, 9, 99, 55, 20, 74, 37, 47, 13, 4, 92, 79, 25, 14, 25, 45, 17, 69, 12, 36, 73, 68, 73, 16, 100, 41, 13, 93, 3, 21, 70, 99, 86, 18, 89, 25, 30, 81, 16, 99, 82, 27, 69, 75, 12, 48, 47, 12, 65, 50, 4, 5, 39, 55, 18, 79, 70, 24, 98, 86, 86, 34, 58, 62, 7, 71, 96, 72, 30, 1, 69, 34, 22, 44, 64, 43, 80, 75, 23, 43, 94, 5, 40, 73, 9, 74, 96, 57, 99, 93, 57, 43, 26, 45, 94, 83, 79, 86, 72, 51, 11, 41, 9, 20, 15, 30, 37, 92, 58, 32, 28, 78, 18, 52, 48, 14, 100, 83, 39, 80, 3, 4, 78, 69, 51, 49, 74, 94, 38, 5, 43, 21, 34, 28, 34, 1, 48, 24, 7, 29, 50, 81, 51, 60, 37, 47, 100, 14, 95, 8, 62, 98, 22, 69, 27, 58, 8, 72, 10, 44, 59, 99, 25, 91, 65, 46, 17, 68, 100, 97, 48, 72, 77, 91, 44, 89, 40, 42, 85, 11, 86, 26, 83, 9, 97, 13, 71, 91, 98, 3, 68, 73, 33, 3, 67, 40, 77, 63, 56, 72, 38, 61, 24, 9, 84, 26, 56, 25, 17, 14, 57, 84, 14, 8, 98, 31, 22, 89, 31, 64, 37, 22, 8, 89, 57, 36, 66, 35, 67, 1, 24, 3, 84, 75, 33, 38, 28, 39, 16, 3, 34, 81, 5, 6, 17, 8, 69, 35, 33, 70, 47, 81, 43, 57, 1, 66, 77, 69, 26, 15, 96, 78, 2, 4, 13, 59, 76, 100, 9, 5, 68, 76, 2, 81, 69, 15, 91, 29, 22, 34, 6, 8, 91, 95, 70, 4, 65, 59, 18, 73, 48, 47, 64, 89, 93, 24, 21, 22, 5, 55, 82, 99, 95, 37, 69, 45, 43, 31, 60, 5, 28, 90, 71, 78, 89, 45, 14, 10, 27, 96, 54, 76, 1, 10, 91, 24, 43, 87, 50, 1, 57, 25, 16, 3, 35, 87, 3, 32, 47, 42, 60, 87, 69, 56, 66]\n"
          ]
        }
      ]
    },
    {
      "cell_type": "markdown",
      "metadata": {
        "id": "_OF-Xuj1UrW0"
      },
      "source": [
        "---\n",
        "### Exercise 7 - get statistics (max(), min(), sum() )\n",
        "\n",
        "Write a function which will:\n",
        "*   print the maximum and minimum numbers in the `nums` list  \n",
        "*   print the sum of the `nums` list\n",
        "*   calculate and print the average of the `nums` list (using `len()` to help)"
      ]
    },
    {
      "cell_type": "code",
      "metadata": {
        "id": "9YmYMenZVGod",
        "outputId": "4c0f8944-a0e0-455f-be2b-b055ae893166",
        "colab": {
          "base_uri": "https://localhost:8080/"
        }
      },
      "source": [
        "def get_stats():\n",
        "  maxNum = max(nums)\n",
        "  minNum = min(nums)\n",
        "  sumNumList = sum(nums)\n",
        "  lenghtOfNums = len(nums)\n",
        "  averageNums = sumNumList / lenghtOfNums\n",
        "  \n",
        "  print('maxium num is :', maxNum)\n",
        "  print ('minum num is :',minNum)\n",
        "  print('sum num is :', sumNumList)\n",
        "  print('length of num is: ',lenghtOfNums)\n",
        "  print('average is :', averageNums)\n",
        "\n",
        "  #write a function to use max(), min() and sum() and print the average\n",
        "\n",
        "\n",
        "# run the function get_stats() and observe the results\n",
        "get_stats()"
      ],
      "execution_count": 41,
      "outputs": [
        {
          "output_type": "stream",
          "name": "stdout",
          "text": [
            "maxium num is : 100\n",
            "minum num is : 1\n",
            "sum num is : 50945\n",
            "length of num is:  1000\n",
            "average is : 50.945\n"
          ]
        }
      ]
    },
    {
      "cell_type": "markdown",
      "metadata": {
        "id": "Mn4tHQ_KVbHa"
      },
      "source": [
        "---\n",
        "### Exercise 8 - percentage difference\n",
        "\n",
        "Write a function which will:\n",
        "*   generate a new list called **get_new_num_stats** using `get_num_list()`\n",
        "*   calculate and print the percentage difference between the first number in each list (as a percentage of the number in the nums list) (*Hint*:  find the difference between the two numbers, divide the difference by the number in `nums` and multiply by 100)\n",
        "*   calculate and print the percentage difference between the last numbers in each list in the same way\n",
        "*   calculate and print the percentage difference between the middle numbers in each list in the same way.\n",
        "*   calculate and print the percentage difference between the sums of each list in the same way"
      ]
    },
    {
      "cell_type": "code",
      "metadata": {
        "id": "nJCQjZIeZL0e",
        "outputId": "2e971770-2bd4-4b6b-edb5-9e106e41de55",
        "colab": {
          "base_uri": "https://localhost:8080/"
        }
      },
      "source": [
        "def get_new_num_stats():\n",
        "  get_new_num_stats = get_num_list()\n",
        "  firstNum = get_new_num_stats[0]\n",
        "  lastNum = get_new_num_stats[-1]\n",
        "  middleNum = int(len(get_new_num_stats) / 2)\n",
        "  firstNumFromNums = nums[0]\n",
        "  lastNumFromNums = nums[-1]\n",
        "  middleFromNums = int(len(nums)/2)\n",
        "\n",
        "  newMiddleNumStatPercentage = get_new_num_stats[middleNum]\n",
        "  newMiddleNumPercentage = nums[middleNum]\n",
        "\n",
        "  firstNumPercentage = firstNum / firstNumFromNums * 100\n",
        "  lastNumPercentage = lastNum / lastNumFromNums * 100\n",
        "  middleNumPercentage = newMiddleNumStatPercentage / newMiddleNumPercentage * 100\n",
        "\n",
        "  print(get_new_num_stats)\n",
        "  print(firstNum)\n",
        "  print(lastNum)\n",
        "  print (middleNum)\n",
        "  print(firstNumFromNums)\n",
        "  print(middleNumPercentage)\n",
        "  print(middleFromNums)\n",
        "  print(middleNumPercentage)\n",
        "  print(newMiddleNumStatPercentage)\n",
        "  print(newMiddleNumPercentage)\n",
        "  # print(lengthOffirstNum)\n",
        "  #write a function to generate a new list and calculate percentage differences\n",
        "\n",
        "\n",
        "\n",
        "\n",
        "# run the function get_new_num_stats() and observe the results\n",
        "get_new_num_stats()"
      ],
      "execution_count": 84,
      "outputs": [
        {
          "output_type": "stream",
          "name": "stdout",
          "text": [
            "[85, 42, 66, 98, 76, 19, 77, 90, 44, 83, 17, 40, 5, 55, 11, 32, 63, 25, 79, 47, 27, 11, 50, 76, 57, 11, 23, 15, 36, 22, 23, 51, 68, 95, 52, 25, 34, 74, 70, 88, 30, 21, 13, 11, 63, 49, 36, 79, 2, 82, 93, 80, 3, 69, 71, 17, 47, 65, 90, 89, 35, 68, 34, 37, 64, 64, 3, 14, 32, 20, 4, 85, 59, 21, 32, 21, 3, 10, 1, 2, 18, 49, 52, 45, 19, 18, 4, 71, 78, 73, 11, 13, 1, 37, 80, 47, 49, 47, 34, 95, 53, 81, 50, 39, 43, 77, 14, 2, 30, 4, 23, 2, 94, 8, 24, 22, 70, 99, 43, 58, 94, 38, 70, 94, 81, 34, 38, 55, 96, 66, 23, 26, 43, 43, 67, 97, 90, 80, 97, 14, 73, 70, 12, 23, 38, 54, 24, 40, 74, 6, 51, 28, 29, 43, 78, 11, 89, 50, 7, 37, 79, 2, 94, 49, 76, 51, 20, 96, 99, 43, 85, 75, 41, 78, 79, 65, 58, 5, 12, 79, 34, 23, 50, 9, 78, 4, 9, 17, 89, 80, 88, 36, 89, 94, 86, 6, 69, 37, 48, 100, 51, 49, 46, 31, 59, 50, 16, 19, 39, 11, 9, 73, 22, 3, 49, 37, 96, 52, 8, 96, 32, 13, 99, 64, 34, 56, 66, 1, 64, 49, 12, 1, 23, 9, 81, 44, 51, 83, 52, 43, 73, 53, 76, 94, 71, 77, 30, 92, 9, 56, 8, 21, 100, 86, 90, 6, 55, 6, 22, 10, 93, 5, 30, 61, 94, 82, 33, 36, 52, 84, 73, 78, 67, 99, 37, 73, 6, 85, 72, 10, 73, 69, 17, 66, 7, 91, 99, 48, 9, 34, 53, 61, 4, 3, 13, 94, 84, 13, 48, 38, 86, 78, 100, 85, 56, 43, 96, 28, 25, 89, 23, 80, 57, 61, 2, 6, 51, 66, 46, 67, 68, 70, 76, 91, 49, 20, 51, 22, 90, 7, 93, 73, 26, 7, 27, 2, 24, 66, 15, 43, 68, 79, 94, 37, 51, 61, 77, 41, 31, 37, 28, 55, 2, 9, 56, 6, 48, 6, 95, 21, 92, 20, 92, 63, 4, 37, 97, 82, 22, 95, 65, 81, 63, 63, 86, 56, 39, 38, 18, 58, 45, 97, 92, 52, 68, 33, 97, 35, 85, 30, 27, 6, 95, 99, 79, 59, 35, 51, 88, 46, 40, 41, 36, 27, 66, 14, 69, 25, 17, 88, 2, 85, 12, 62, 37, 83, 24, 56, 2, 18, 7, 42, 34, 84, 53, 10, 63, 45, 65, 96, 81, 12, 71, 28, 42, 70, 46, 60, 73, 99, 56, 29, 32, 64, 15, 43, 50, 33, 46, 28, 6, 16, 95, 46, 55, 96, 36, 24, 33, 71, 48, 67, 50, 19, 3, 76, 38, 37, 83, 88, 29, 46, 56, 13, 99, 37, 47, 98, 77, 15, 74, 80, 89, 72, 61, 30, 5, 49, 30, 69, 16, 35, 71, 83, 88, 82, 27, 31, 48, 65, 80, 24, 27, 71, 67, 64, 92, 41, 36, 47, 9, 1, 37, 87, 13, 26, 40, 53, 44, 36, 63, 28, 52, 49, 36, 47, 9, 76, 79, 7, 44, 13, 66, 4, 44, 83, 70, 25, 68, 47, 84, 82, 25, 53, 46, 52, 41, 77, 10, 23, 32, 93, 8, 32, 26, 85, 9, 19, 10, 90, 14, 59, 57, 100, 17, 75, 42, 96, 81, 100, 77, 95, 24, 75, 78, 71, 3, 39, 42, 24, 14, 56, 61, 97, 50, 25, 27, 13, 18, 24, 2, 58, 74, 56, 97, 27, 22, 93, 20, 28, 28, 98, 26, 100, 95, 77, 1, 27, 68, 62, 51, 77, 54, 44, 94, 14, 3, 45, 75, 29, 98, 92, 87, 30, 73, 77, 64, 78, 50, 67, 34, 98, 83, 72, 96, 62, 36, 14, 95, 5, 91, 74, 84, 65, 62, 28, 83, 86, 43, 98, 30, 68, 67, 45, 94, 19, 8, 36, 37, 92, 14, 97, 32, 73, 40, 68, 70, 27, 71, 49, 7, 23, 56, 47, 3, 5, 12, 96, 100, 83, 17, 8, 76, 55, 36, 84, 52, 34, 33, 70, 97, 36, 99, 61, 36, 75, 8, 28, 63, 18, 96, 42, 57, 51, 97, 40, 40, 30, 1, 34, 99, 56, 52, 38, 69, 6, 78, 77, 87, 89, 25, 51, 36, 76, 58, 73, 2, 80, 75, 38, 10, 10, 63, 63, 98, 54, 41, 48, 24, 65, 51, 40, 49, 32, 29, 81, 39, 4, 25, 84, 59, 27, 52, 12, 75, 41, 19, 95, 51, 22, 52, 50, 74, 34, 16, 16, 11, 74, 24, 21, 38, 57, 80, 37, 46, 18, 72, 8, 83, 24, 44, 37, 34, 76, 50, 35, 74, 70, 9, 46, 100, 84, 21, 62, 80, 78, 55, 91, 56, 92, 19, 99, 66, 83, 57, 33, 55, 30, 78, 82, 25, 24, 19, 92, 32, 45, 60, 43, 21, 40, 53, 39, 7, 11, 38, 12, 57, 87, 77, 61, 99, 32, 81, 67, 23, 51, 14, 87, 77, 88, 14, 68, 52, 95, 46, 28, 74, 78, 15, 45, 50, 32, 19, 91, 79, 1, 63, 48, 86, 88, 41, 69, 69, 10, 55, 82, 53, 21, 9, 3, 22, 2, 68, 42, 97, 75, 89, 37, 14, 12, 61, 58, 70, 24, 19, 89, 83, 83, 49, 3, 35, 24, 43, 9, 8, 29, 6, 80, 15, 75, 54, 28, 5, 62, 56, 65, 95, 19, 60, 57, 73, 23, 7, 76, 91, 92, 19, 93, 19, 14, 88, 94, 4, 38, 20, 20, 27, 58, 30, 98, 98, 14, 45, 28, 35, 13, 37, 4, 14, 19, 92, 25, 83, 72, 57, 56, 56, 39, 24, 57, 64, 7, 25, 29, 50, 41, 6, 30, 42, 69, 7, 100, 68, 10, 44, 48, 10, 27, 8, 23, 67, 36, 60, 36, 19, 87, 81, 96, 97, 19, 67, 41, 74, 51, 94, 41, 84, 69, 43, 44, 86, 40, 73, 56, 16, 21, 67, 97, 71, 81]\n",
            "85\n",
            "98\n",
            "86.73469387755102\n",
            "368.1818181818182\n",
            "109.58904109589041\n",
            "500\n",
            "109.58904109589041\n",
            "80\n",
            "73\n"
          ]
        }
      ]
    },
    {
      "cell_type": "markdown",
      "metadata": {
        "id": "pQV2NO8umBSk"
      },
      "source": [
        "# Reflection\n",
        "----\n",
        "\n",
        "## What you learnt through completing this notebook?"
      ]
    },
    {
      "cell_type": "markdown",
      "metadata": {
        "id": "NUVvt2r0mCKq"
      },
      "source": [
        "Your answer:"
      ]
    },
    {
      "cell_type": "markdown",
      "metadata": {
        "id": "SOrbWOuFmObq"
      },
      "source": [
        "## What caused you the most difficulty?"
      ]
    },
    {
      "cell_type": "markdown",
      "metadata": {
        "id": "G_eGng1GmO78"
      },
      "source": [
        "Your answer:"
      ]
    }
  ]
}