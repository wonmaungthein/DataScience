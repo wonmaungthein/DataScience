{
  "nbformat": 4,
  "nbformat_minor": 0,
  "metadata": {
    "colab": {
      "name": "Copy of Working with Strings.ipynb",
      "provenance": [],
      "collapsed_sections": [],
      "include_colab_link": true
    },
    "kernelspec": {
      "name": "python3",
      "display_name": "Python 3"
    }
  },
  "cells": [
    {
      "cell_type": "markdown",
      "metadata": {
        "id": "view-in-github",
        "colab_type": "text"
      },
      "source": [
        "<a href=\"https://colab.research.google.com/github/wonmaungthein/DataScience/blob/main/Copy_of_Working_with_Strings.ipynb\" target=\"_parent\"><img src=\"https://colab.research.google.com/assets/colab-badge.svg\" alt=\"Open In Colab\"/></a>"
      ]
    },
    {
      "cell_type": "markdown",
      "metadata": {
        "id": "GdT0fwTCa4gI"
      },
      "source": [
        "# Working with Strings"
      ]
    },
    {
      "cell_type": "markdown",
      "metadata": {
        "id": "ozWLM6Pfa7d_"
      },
      "source": [
        "---\n",
        "### Exercise 1 input and strings\n",
        "**Recap**: to get input from the user and store it in a variable, use the instruction  \n",
        "\n",
        "*variableName = input(\"message asking user for required information\")*  \n",
        "\n",
        "*Remember: Unless you state otherwise, all input is String data*  \n",
        "\n",
        "Write a function called **print_full_name()** which will:\n",
        "\n",
        "*  set a **first_name** to Peter  \n",
        "*  set a **middle_name** to Barry \n",
        "*  set a **surname** to Burrows  \n",
        "*  print the name in the format: `surname`, `first_name` `middle_name`  \n",
        "\n",
        "**Expected output**:  \n",
        "Burrows, Peter Barry\n"
      ]
    },
    {
      "cell_type": "code",
      "metadata": {
        "id": "lMJckNo-ab3z",
        "colab": {
          "base_uri": "https://localhost:8080/"
        },
        "outputId": "54f8c920-af58-4c04-8e07-8f65bd259504"
      },
      "source": [
        "def print_full_name():\n",
        "  first_name = \"Peter\"\n",
        "  middle_name = \"Barry\"\n",
        "  surname = \"Burrows\"\n",
        "  full_name = surname + \",\" + first_name + \" \" + middle_name\n",
        "  print(full_name)\n",
        "  #add your code here to ask the set the variables and print the full name with a comma after the surname.\n",
        "\n",
        "\n",
        "# run the function print_full_name()\n",
        "print_full_name()"
      ],
      "execution_count": null,
      "outputs": [
        {
          "output_type": "stream",
          "name": "stdout",
          "text": [
            "Burrows,Peter Barry\n"
          ]
        }
      ]
    },
    {
      "cell_type": "markdown",
      "metadata": {
        "id": "1Pvs8lp3bfYQ"
      },
      "source": [
        "# Substrings\n",
        "\n",
        "---\n",
        "\n",
        "A String is a set of characters. Each String has a length and each character in the string has a position or index. Indexing starts at 0 so the first character of a String is at position 0. As Strings have varying lengths, the last character of the String is at position -1. To find any character in the String, count from 0 or, if you want to count backwards from the end, count back from -1.  \n",
        "\n",
        "You can get a particular character, or a set of consecutive characters (substring) from a String using [] and the positions of the characters you want.  \n",
        "\n",
        "Example:  \n",
        "To get the first letter of a String (in this case the String is called **name**)\n",
        "**first_letter** = `name`[0]  \n",
        "**second_letter** = `name`[1]  \n",
        "**sixth_letter** = `name`[5]  \n",
        "\n",
        "To get the last letter of name:  \n",
        "**last_letter** = `name`[-1]  \n",
        "**second_last_letter** = `name`[-2]  \n",
        "**third_last_letter** = `name`[-3]  \n",
        "\n",
        "Have a go"
      ]
    },
    {
      "cell_type": "code",
      "metadata": {
        "id": "1EMg6ff7bw7o",
        "colab": {
          "base_uri": "https://localhost:8080/"
        },
        "outputId": "a0e60b9c-3bd8-4aa7-a3bf-9a80d76d1f2c"
      },
      "source": [
        "def print_letter():\n",
        "   name = \"Robert\" \n",
        "   first_letter = name[0]\n",
        "   second_letter = name [1]\n",
        "   last_letter = name[-1]\n",
        "   print(first_letter)\n",
        "   print (second_letter)\n",
        "   print ('This is last character:', last_letter)\n",
        "   # add your code below here to get a particular letter and print it.\n",
        "  \n",
        "  \n",
        "  \n",
        "print_letter()"
      ],
      "execution_count": null,
      "outputs": [
        {
          "output_type": "stream",
          "name": "stdout",
          "text": [
            "R\n",
            "o\n",
            "This is last character: t\n"
          ]
        }
      ]
    },
    {
      "cell_type": "markdown",
      "metadata": {
        "id": "FfkpprKbb0Eu"
      },
      "source": [
        "To get a set of letters from a String, use the **slice** operator.  \n",
        "\n",
        "*substring = stringname[ index of first letter to be included_ : index + 1 of last letter ]* \n",
        "\n",
        "Example:  \n",
        "\n",
        "**first_three_letters** = `name`[0:3]  \n",
        "**second_to_fifth_letters** = `name`[1:5]  \n",
        "**last_three_letters** = `name`[-3:]  \n",
        "\n",
        "*Note: we can't add 1 to -1 as the result would be 0 and confused with the first letter, so we omit the second number to indicate that we want all characters to the end of the string*  \n",
        "\n",
        "Have a go  "
      ]
    },
    {
      "cell_type": "code",
      "metadata": {
        "id": "FGQj_JCVcPGj",
        "colab": {
          "base_uri": "https://localhost:8080/"
        },
        "outputId": "c9d5ee87-14f5-402f-b5dc-8d9cc876908e"
      },
      "source": [
        "def print_slice():\n",
        "   name = \"Christopher\" \n",
        "   first_three_letters = name[0:3]\n",
        "   third_to_five_letters = name[2:7]\n",
        "   print(first_three_letters)\n",
        "   print(third_to_five_letters)\n",
        "   # add your code below here to get a particular substring and print it.\n",
        "  \n",
        "  \n",
        "# run the function print_slice()  \n",
        "print_slice()"
      ],
      "execution_count": null,
      "outputs": [
        {
          "output_type": "stream",
          "name": "stdout",
          "text": [
            "Chr\n",
            "risto\n"
          ]
        }
      ]
    },
    {
      "cell_type": "markdown",
      "metadata": {
        "id": "Cb2OHs_jcQFv"
      },
      "source": [
        "---\n",
        "### Exercise 2 - substrings\n",
        "\n",
        "Write a function called **print_substring()** which will:\n",
        " \n",
        "Set the variable **name** to \"Bartholomew\"  \n",
        "Print the **fourth to the eighth** letters in the `name`  \n",
        "\n",
        "**Expected output**:  \n",
        "tholo\n"
      ]
    },
    {
      "cell_type": "code",
      "metadata": {
        "id": "IfABvmw2cgfH",
        "colab": {
          "base_uri": "https://localhost:8080/"
        },
        "outputId": "129a1c9d-bd77-4423-9a64-85bec963bc08"
      },
      "source": [
        "def print_substring():\n",
        "  name = \"Bartholomew\"\n",
        "  fourth_to_the_eighth = name[3:8]\n",
        "  print(fourth_to_the_eighth)\n",
        "\n",
        "# run the function print_substring()\n",
        "print_substring()"
      ],
      "execution_count": null,
      "outputs": [
        {
          "output_type": "stream",
          "name": "stdout",
          "text": [
            "tholo\n"
          ]
        }
      ]
    },
    {
      "cell_type": "markdown",
      "metadata": {
        "id": "6ryO1LJMchLQ"
      },
      "source": [
        "---\n",
        "### Exercise 3  - Formatting String output  \n",
        "\n",
        "Write a function called **print_formatted()** which will:  \n",
        "\n",
        "*  set the value of **house_number** to 10\n",
        "*  set the value of **road_name** to \"Old Road\"\n",
        "*  set the value of **town** to \"Chatham\"\n",
        "*  set the value of **postcode** to \"ME1 1AA\"    \n",
        "*  print the address on three lines (`house_number` with a comma and `road_name`, `town`, `postcode`)  \n",
        "\n",
        "**Expected output**:   \n",
        "10, Old Road  \n",
        "Chatham  \n",
        "ME4 1AA  "
      ]
    },
    {
      "cell_type": "code",
      "metadata": {
        "id": "qNHq7Ub4c1xP",
        "colab": {
          "base_uri": "https://localhost:8080/"
        },
        "outputId": "083f06e1-2e35-485d-c941-2d2e5fa7338e"
      },
      "source": [
        "def print_formatted():\n",
        "  house_number = '10'\n",
        "  road_name = \"Old Road\"\n",
        "  town = \"Chatham\"\n",
        "  postcode = \"ME1 1AA\"\n",
        "  the_address = house_number + ',' + road_name + '\\n' + town + '\\n' + postcode \n",
        "  print(the_address)\n",
        "  # add code here to set the variables and format the printed output\n",
        "\n",
        "\n",
        "# run the function print_formatted()\n",
        "print_formatted()"
      ],
      "execution_count": null,
      "outputs": [
        {
          "output_type": "stream",
          "name": "stdout",
          "text": [
            "10,Old Road\n",
            "Chatham\n",
            "ME1 1AA\n"
          ]
        }
      ]
    },
    {
      "cell_type": "markdown",
      "metadata": {
        "id": "E4BkKHlyc2BA"
      },
      "source": [
        "# String functions\n",
        "\n",
        "## String length\n",
        "\n",
        "You can get the length of a String using the len() function   \n",
        "e.g. **namelength** = len(`name`)  \n"
      ]
    },
    {
      "cell_type": "markdown",
      "metadata": {
        "id": "B0-NtV3uc8UC"
      },
      "source": [
        "---\n",
        "### Exercise 4 - String length  \n",
        "\n",
        "Write a function called **print_name_length()** which will:  \n",
        "\n",
        "*  set the value of **name** to \"Sourojit\"    \n",
        "*  assign the length of the name to a variable called **name_length**  \n",
        "*  print the `name` followed by a comma, then `name_length`, then the word “characters”.  \n",
        "\n",
        "**Expected Output**:  \n",
        "William, 7 characters"
      ]
    },
    {
      "cell_type": "code",
      "metadata": {
        "id": "ldWAjdrIdOzn",
        "colab": {
          "base_uri": "https://localhost:8080/"
        },
        "outputId": "5ed8ae8e-1b98-4633-fa7d-3d5f55d43f23"
      },
      "source": [
        "def print_name_length():\n",
        "  name = \"Sourojit\"\n",
        "  name_length = len(name)\n",
        "  print(name+',', name_length, 'characters')\n",
        "  #add code here to ask a user's name and check the length\n",
        "\n",
        "\n",
        "# run the function print_name_length()\n",
        "print_name_length()"
      ],
      "execution_count": null,
      "outputs": [
        {
          "output_type": "stream",
          "name": "stdout",
          "text": [
            "Sourojit, 8 characters\n"
          ]
        }
      ]
    },
    {
      "cell_type": "markdown",
      "metadata": {
        "id": "2UTCEzYtdPTH"
      },
      "source": [
        "## String Case Conversion  \n",
        "\n",
        "When you start to compare and search for strings, you will need to be aware that data doesn’t always turn up in the state we would like it.  People often forget to use capital letters at the beginning of their names and will sometimes use all capitals.  It is useful, therefore, to be able to convert a String either to all capitals or all lowercase, depending on how you want to see it.  \n",
        "\n",
        "There are three functions for this, which are linked to the String (here the String variable is called **name**).  \n",
        "\n",
        "*   **upper_case_name** = `name.upper()`\n",
        "*   **lower_case_name** = `name.lower()`\n",
        "*   **capitalised_name** = `name.capitalize()`\n"
      ]
    },
    {
      "cell_type": "markdown",
      "metadata": {
        "id": "X-Fv314Hdicp"
      },
      "source": [
        "---\n",
        "### Exercise 5 - case conversion  \n",
        "\n",
        "Write a function called **convert_to_capitals()** which will:  \n",
        "\n",
        "*  set the variable **name** to \"jaswinder\"   \n",
        "*  assign the capitalised string to the variable **capitalised_name** \n",
        "*  print the `name` in capitals  \n",
        "\n",
        "\n",
        "**Expected output**:  \n",
        "JASWINDER  \n"
      ]
    },
    {
      "cell_type": "code",
      "metadata": {
        "id": "aHDLaligd0Do",
        "colab": {
          "base_uri": "https://localhost:8080/"
        },
        "outputId": "58a3bbd9-2779-447e-e991-840b2120c619"
      },
      "source": [
        "def convert_to_capitals():\n",
        "  name = 'jaswinder'\n",
        "  capitalised_name = name.upper()\n",
        "  print(capitalised_name)\n",
        "  #add code here to set the name and change capitalisation\n",
        "\n",
        "\n",
        "# run the function convert_to_capitals()\n",
        "convert_to_capitals()"
      ],
      "execution_count": null,
      "outputs": [
        {
          "output_type": "stream",
          "name": "stdout",
          "text": [
            "JASWINDER\n"
          ]
        }
      ]
    },
    {
      "cell_type": "markdown",
      "metadata": {
        "id": "DZeyD6p8dusQ"
      },
      "source": [
        "---\n",
        "###Exercise 6 - case conversion  \n",
        "\n",
        "Write a function called **capitalise_names()** which will:  \n",
        "\n",
        "*  set the value of **name** to benJamIN  \n",
        "*  set the value of **surname** to \"VERT\"  \n",
        "*  print both `name` and `surname` in lowercase with a capital letter at the start  \n",
        "\n",
        "**Expected output**:  \n",
        "Benjamin Vert\n"
      ]
    },
    {
      "cell_type": "code",
      "metadata": {
        "id": "bpCdYaPdap3V",
        "colab": {
          "base_uri": "https://localhost:8080/"
        },
        "outputId": "d80904d7-ed35-4ae4-dc38-4994cb5307d8"
      },
      "source": [
        "def capitalise_names():\n",
        "  name = 'benJamIN'\n",
        "  surname = 'VERT'\n",
        "  capitalisedFirst =   name.capitalize()\n",
        "  capitalisedLast = surname.capitalize()\n",
        "\n",
        "  # print(lowerCase)\n",
        "  print(capitalisedFirst,capitalisedLast)\n",
        "  #add code here for set the variables, capitalise the strings and print name and surname\n",
        "\n",
        "\n",
        "# run the function capitalise_names()\n",
        "capitalise_names()"
      ],
      "execution_count": null,
      "outputs": [
        {
          "output_type": "stream",
          "name": "stdout",
          "text": [
            "Benjamin Vert\n"
          ]
        }
      ]
    },
    {
      "cell_type": "markdown",
      "metadata": {
        "id": "8Q9-32tFaqLN"
      },
      "source": [
        "---\n",
        "### Exercise 7 - Substrings and case conversion\n",
        "\n",
        "Write a function called **print_postcode_letters()** which will:   \n",
        "\n",
        "*  set the value of **postcode** to \"Me4 6bb\"  \n",
        "*  assign the first two letters of the postcode to a variable called **postcode_area**  \n",
        "*  convert the `postcode_area` string to capital letters and assign this to a variable called **capitalised_area**  \n",
        "*  print `capitalised_area`  \n",
        "\n",
        "**Expected output**:  \n",
        "ME\n"
      ]
    },
    {
      "cell_type": "code",
      "metadata": {
        "id": "dB3M2qagbUsE",
        "colab": {
          "base_uri": "https://localhost:8080/"
        },
        "outputId": "3730e17a-59bf-426e-d0ba-2390b2730d6c"
      },
      "source": [
        "def print_postcode_letters():\n",
        "  postcode = 'Me4 6bb'\n",
        "  postcode_area = postcode[0:2]\n",
        "  capitalised_area = postcode_area.upper()\n",
        "\n",
        "  print(capitalised_area)\n",
        "  #add code here to set the postcode variable, convert to upper case and print it\n",
        "\n",
        "\n",
        "# run the function print_postcode_letters()\n",
        "print_postcode_letters()"
      ],
      "execution_count": null,
      "outputs": [
        {
          "output_type": "stream",
          "name": "stdout",
          "text": [
            "ME\n"
          ]
        }
      ]
    },
    {
      "cell_type": "markdown",
      "metadata": {
        "id": "2eezJB2UbU1M"
      },
      "source": [
        "---\n",
        "### Exercise 8 - Floor division and slicing\n",
        "\n",
        "Write a function called **print_half_word()** which will:\n",
        " \n",
        "*  set the value of **word** to Runtime    \n",
        "*  assign the value of half the length of the `word` to a variable called **half_length**  \n",
        "*  assign the first half of the `word` to a new variable called **half_word**  \n",
        "*  print `half_word`  \n",
        "\n",
        "*Hint:  when dividing the length of the word by 2, use floor division (//) so that you get a whole number of letters).  To get the first half of the word, use word[0:half_Length]*  \n",
        "\n",
        "**Expected output**:  \n",
        "Run"
      ]
    },
    {
      "cell_type": "code",
      "metadata": {
        "id": "Xx3zHFgab2pt",
        "colab": {
          "base_uri": "https://localhost:8080/"
        },
        "outputId": "5c4b4190-81ec-43da-fe72-e69212723afc"
      },
      "source": [
        "def print_half_word():\n",
        "  word = 'Runtime'\n",
        "  half_length = len(word)//2\n",
        "  half_word = word[0:half_length]\n",
        "  print(half_word)\n",
        "  #add code here to set the variables and to print the first half of the word\n",
        "\n",
        "\n",
        "# run the function print_half_word()\n",
        "print_half_word()"
      ],
      "execution_count": null,
      "outputs": [
        {
          "output_type": "stream",
          "name": "stdout",
          "text": [
            "Run\n"
          ]
        }
      ]
    },
    {
      "cell_type": "markdown",
      "metadata": {
        "id": "pQV2NO8umBSk"
      },
      "source": [
        "# Reflection\n",
        "----\n",
        "\n",
        "## What you learnt through completing this notebook?"
      ]
    },
    {
      "cell_type": "markdown",
      "metadata": {
        "id": "NUVvt2r0mCKq"
      },
      "source": [
        "Your answer: It was interesting. Alghough it was a bit difficult, I managed to finish later."
      ]
    },
    {
      "cell_type": "markdown",
      "metadata": {
        "id": "SOrbWOuFmObq"
      },
      "source": [
        "## What caused you the most difficulty?"
      ]
    },
    {
      "cell_type": "markdown",
      "metadata": {
        "id": "G_eGng1GmO78"
      },
      "source": [
        "Your answer: address and postcode in three lines was a bit difficult. \n"
      ]
    }
  ]
}